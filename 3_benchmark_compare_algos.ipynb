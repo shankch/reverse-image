{
  "nbformat": 4,
  "nbformat_minor": 0,
  "metadata": {
    "kernelspec": {
      "display_name": "Python 3",
      "language": "python",
      "name": "python3"
    },
    "language_info": {
      "codemirror_mode": {
        "name": "ipython",
        "version": 3
      },
      "file_extension": ".py",
      "mimetype": "text/x-python",
      "name": "python",
      "nbconvert_exporter": "python",
      "pygments_lexer": "ipython3",
      "version": "3.6.8"
    },
    "toc": {
      "base_numbering": 1,
      "nav_menu": {},
      "number_sections": true,
      "sideBar": true,
      "skip_h1_title": false,
      "title_cell": "Table of Contents",
      "title_sidebar": "Contents",
      "toc_cell": false,
      "toc_position": {},
      "toc_section_display": true,
      "toc_window_display": false
    },
    "colab": {
      "name": "3_benchmark_compare_algos.ipynb",
      "provenance": [],
      "collapsed_sections": [
        "bllnLarcjiRR"
      ],
      "include_colab_link": true
    },
    "accelerator": "GPU"
  },
  "cells": [
    {
      "cell_type": "markdown",
      "metadata": {
        "id": "view-in-github",
        "colab_type": "text"
      },
      "source": [
        "<a href=\"https://colab.research.google.com/github/shankch/reverse-image/blob/main/3_benchmark_compare_algos.ipynb\" target=\"_parent\"><img src=\"https://colab.research.google.com/assets/colab-badge.svg\" alt=\"Open In Colab\"/></a>"
      ]
    },
    {
      "cell_type": "markdown",
      "metadata": {
        "id": "r7W9oT7YjiRC"
      },
      "source": [
        "# Similarity Search: Benchmarking the algorithms\n",
        "\n",
        "We benchmark the algorithms based on the time it takes to index images and locate the most similar image based on its features using the UC Merced Land Use dataset. We also experiment with t-SNE and PCA.\n",
        "\n",
        "### Understanding the time it takes to index images and locate the most similar image based on its features\n",
        "\n",
        "For these experiments we will use the features of the UC Merced Land Use dataset that we read above.\n",
        "\n",
        "First, let's choose a random image to experiment with. We will be using the same image for all the following experiments. Note: the results may change if the image is changed."
      ]
    },
    {
      "cell_type": "code",
      "metadata": {
        "colab": {
          "base_uri": "https://localhost:8080/"
        },
        "id": "EuNNeuHx8oZr",
        "outputId": "8103b9a2-fd14-4f69-de7e-d12edda20b5d"
      },
      "source": [
        "from google.colab import drive\n",
        "drive.mount('/content/drive')\n",
        "!mkdir data\n",
        "!cp -a drive/MyDrive/c99t1/* data/"
      ],
      "execution_count": 1,
      "outputs": [
        {
          "output_type": "stream",
          "name": "stdout",
          "text": [
            "Mounted at /content/drive\n"
          ]
        }
      ]
    },
    {
      "cell_type": "code",
      "metadata": {
        "id": "kGbtJ8VvjiRC"
      },
      "source": [
        "import numpy as np\n",
        "import pickle\n",
        "from tqdm import tqdm, tqdm_notebook\n",
        "import random\n",
        "import time\n",
        "from sklearn.manifold import TSNE\n",
        "from sklearn.decomposition import PCA\n",
        "import PIL\n",
        "from PIL import Image\n",
        "from sklearn.neighbors import NearestNeighbors\n",
        "\n",
        "import glob\n",
        "import matplotlib\n",
        "import matplotlib.pyplot as plt\n",
        "import matplotlib.image as mpimg\n",
        "%matplotlib inline"
      ],
      "execution_count": 48,
      "outputs": []
    },
    {
      "cell_type": "code",
      "metadata": {
        "id": "PANqDcDbjiRD"
      },
      "source": [
        "filenames = pickle.load(open('data/filenames-udset.pickle', 'rb'))\n",
        "feature_list = pickle.load(open('data/features-udset-resnet.pickle',\n",
        "                                'rb'))\n",
        "class_ids = pickle.load(open('data/class_ids-udset.pickle', 'rb'))"
      ],
      "execution_count": 49,
      "outputs": []
    },
    {
      "cell_type": "code",
      "metadata": {
        "id": "91KNwLphjiRE",
        "colab": {
          "base_uri": "https://localhost:8080/"
        },
        "outputId": "f1f2ab96-f2d6-4e84-d34a-e8b4894d5d95"
      },
      "source": [
        "num_images = len(filenames)\n",
        "num_features_per_image = len(feature_list[0])\n",
        "print(\"Number of images = \", num_images)\n",
        "print(\"Number of features per image = \", num_features_per_image)"
      ],
      "execution_count": 50,
      "outputs": [
        {
          "output_type": "stream",
          "name": "stdout",
          "text": [
            "Number of images =  2100\n",
            "Number of features per image =  2048\n"
          ]
        }
      ]
    },
    {
      "cell_type": "code",
      "metadata": {
        "id": "Hi4NMyfFjiRE",
        "colab": {
          "base_uri": "https://localhost:8080/"
        },
        "outputId": "2f152ff3-841d-4861-ea18-d7015de0c571"
      },
      "source": [
        "random_image_index = random.randint(0, num_images)\n",
        "print (random_image_index)"
      ],
      "execution_count": 51,
      "outputs": [
        {
          "output_type": "stream",
          "name": "stdout",
          "text": [
            "638\n"
          ]
        }
      ]
    },
    {
      "cell_type": "markdown",
      "metadata": {
        "id": "r6mILJrMjiRF"
      },
      "source": [
        "### Standard features\n",
        "\n",
        "The following experiments are based on the ResNet-50 features derived from the images of the UC Merced Land Use dataset. \n",
        "\n",
        "### Standard features + Brute Force Algorithm on one image\n",
        "\n",
        "We will be timing the indexing for various Nearest Neighbors algorithms, so let's start with timing the indexing for the Brute force algorithm. While running terminal commands in iPython like the `timeit` command, the variables are not stored in memory, so we need to rerun the same command to compute and store the results in the variable. "
      ]
    },
    {
      "cell_type": "code",
      "metadata": {
        "id": "VhB_rrK4jiRG",
        "colab": {
          "base_uri": "https://localhost:8080/"
        },
        "outputId": "88c99ab0-c02e-443e-c09a-9535d006235a"
      },
      "source": [
        "%timeit NearestNeighbors(n_neighbors=5, algorithm='brute', metric='euclidean').fit(feature_list)\n",
        "neighbors = NearestNeighbors(n_neighbors=5,\n",
        "                             algorithm='brute',\n",
        "                             metric='euclidean').fit(feature_list)"
      ],
      "execution_count": 52,
      "outputs": [
        {
          "output_type": "stream",
          "name": "stdout",
          "text": [
            "100 loops, best of 5: 3.4 ms per loop\n"
          ]
        }
      ]
    },
    {
      "cell_type": "markdown",
      "metadata": {
        "id": "nA_VQ7u_jiRG"
      },
      "source": [
        "Now, let's look at the time it takes to search for the nearest neighbors for the selected random image using the trained model with the Brute force algorithm."
      ]
    },
    {
      "cell_type": "code",
      "metadata": {
        "id": "uCIPbv1NjiRH",
        "colab": {
          "base_uri": "https://localhost:8080/"
        },
        "outputId": "d1ca0fda-d885-4ac7-f69c-40195772f4c1"
      },
      "source": [
        "%timeit neighbors.kneighbors([feature_list[random_image_index]])"
      ],
      "execution_count": 53,
      "outputs": [
        {
          "output_type": "stream",
          "name": "stdout",
          "text": [
            "100 loops, best of 5: 15.7 ms per loop\n"
          ]
        }
      ]
    },
    {
      "cell_type": "markdown",
      "metadata": {
        "id": "7MreDZuVjiRH"
      },
      "source": [
        "###  Standard features + k-d Tree Algorithm  on one image\n",
        "\n",
        "Now let's turn our attention to the next nearest neighbors algorithm, the k-d tree. Let's time the indexing for the k-d tree algorithm."
      ]
    },
    {
      "cell_type": "code",
      "metadata": {
        "id": "FkHfIo6VjiRH",
        "colab": {
          "base_uri": "https://localhost:8080/"
        },
        "outputId": "8c15ad28-d0fa-430d-ff21-00a034c0e0db"
      },
      "source": [
        "%timeit NearestNeighbors(n_neighbors=5, algorithm='kd_tree').fit(feature_list)\n",
        "neighbors = NearestNeighbors(n_neighbors=5,\n",
        "                             algorithm='kd_tree').fit(feature_list)"
      ],
      "execution_count": 54,
      "outputs": [
        {
          "output_type": "stream",
          "name": "stdout",
          "text": [
            "1 loop, best of 5: 358 ms per loop\n"
          ]
        }
      ]
    },
    {
      "cell_type": "markdown",
      "metadata": {
        "id": "XhweHNTOjiRI"
      },
      "source": [
        "Now, time the search for the same random image using the k-d tree trained model."
      ]
    },
    {
      "cell_type": "code",
      "metadata": {
        "id": "YsZK9SN9jiRI",
        "colab": {
          "base_uri": "https://localhost:8080/"
        },
        "outputId": "a06e8ef1-6b7c-4de3-d74a-d9f7e59a0661"
      },
      "source": [
        "%timeit neighbors.kneighbors([feature_list[random_image_index]])"
      ],
      "execution_count": 55,
      "outputs": [
        {
          "output_type": "stream",
          "name": "stdout",
          "text": [
            "100 loops, best of 5: 9.34 ms per loop\n"
          ]
        }
      ]
    },
    {
      "cell_type": "markdown",
      "metadata": {
        "id": "c9h90gwljiRI"
      },
      "source": [
        "###  Standard features + Ball Tree Algorithm  on one image\n",
        "\n",
        "Finally, its time for our last nearest neighbors algorithm - the Ball Tree algorithm. As before, let's calculate the time it takes to train the model."
      ]
    },
    {
      "cell_type": "code",
      "metadata": {
        "id": "1h3-ECLCjiRI",
        "colab": {
          "base_uri": "https://localhost:8080/"
        },
        "outputId": "c953b841-108d-4477-85fd-d272b90392fa"
      },
      "source": [
        "%timeit NearestNeighbors(n_neighbors=5, algorithm='ball_tree').fit(feature_list)\n",
        "neighbors = NearestNeighbors(n_neighbors=5,\n",
        "                             algorithm='ball_tree').fit(feature_list)"
      ],
      "execution_count": 56,
      "outputs": [
        {
          "output_type": "stream",
          "name": "stdout",
          "text": [
            "1 loop, best of 5: 249 ms per loop\n"
          ]
        }
      ]
    },
    {
      "cell_type": "markdown",
      "metadata": {
        "id": "KKKeHgO2jiRJ"
      },
      "source": [
        "As before, let's time the search for the Ball Tree model."
      ]
    },
    {
      "cell_type": "code",
      "metadata": {
        "id": "BVhPmBo8jiRJ",
        "colab": {
          "base_uri": "https://localhost:8080/"
        },
        "outputId": "d35f4b0f-0067-44f3-fb48-71015a067cb2"
      },
      "source": [
        "%timeit neighbors.kneighbors([feature_list[random_image_index]])"
      ],
      "execution_count": 57,
      "outputs": [
        {
          "output_type": "stream",
          "name": "stdout",
          "text": [
            "100 loops, best of 5: 6.3 ms per loop\n"
          ]
        }
      ]
    },
    {
      "cell_type": "markdown",
      "metadata": {
        "id": "j6y2q8rhjiRJ"
      },
      "source": [
        "We will increase the number of our test images so that we can experiment with how the scalability of different nearest neighbors algorithms change. Let's choose a random set of 100 or 1000 images to experiment. \n",
        "\n",
        "Note: the results may change if any of the images are changed"
      ]
    },
    {
      "cell_type": "markdown",
      "metadata": {
        "id": "-4uRpqGLjiRJ"
      },
      "source": [
        "Generate a list of images to do the next set of experiments on."
      ]
    },
    {
      "cell_type": "code",
      "metadata": {
        "id": "71yM6S38jiRK"
      },
      "source": [
        "random_image_indices = random.sample(range(0, num_images), 1000)\n",
        "print (len(random_image_indices))\n",
        "random_feature_list = [ feature_list[each_index] for each_index in random_image_indices ]\n",
        "print (random_feature_list)"
      ],
      "execution_count": null,
      "outputs": []
    },
    {
      "cell_type": "markdown",
      "metadata": {
        "id": "iHvt1sLojiRK"
      },
      "source": [
        "### Standard features + Brute Force Algorithm on a set of images\n",
        "\n",
        "Time the search for the Brute force algorithm."
      ]
    },
    {
      "cell_type": "code",
      "metadata": {
        "id": "FOMu2CcvjiRK",
        "colab": {
          "base_uri": "https://localhost:8080/"
        },
        "outputId": "2d8bbe97-30e2-4f01-dd2e-f31e5ba92a57"
      },
      "source": [
        "neighbors = NearestNeighbors(n_neighbors=5,\n",
        "                             algorithm='brute',\n",
        "                             metric='euclidean').fit(feature_list)\n",
        "%timeit neighbors.kneighbors(random_feature_list)"
      ],
      "execution_count": 59,
      "outputs": [
        {
          "output_type": "stream",
          "name": "stdout",
          "text": [
            "1 loop, best of 5: 406 ms per loop\n"
          ]
        }
      ]
    },
    {
      "cell_type": "markdown",
      "metadata": {
        "id": "02I0uOudjiRK"
      },
      "source": [
        "### Standard features +  k-d Tree Algorithm on a set of images\n",
        "\n",
        "Time the search for the k-d tree algorithm."
      ]
    },
    {
      "cell_type": "code",
      "metadata": {
        "id": "lkSLLqaKjiRK",
        "colab": {
          "base_uri": "https://localhost:8080/"
        },
        "outputId": "44463690-27e7-4d93-8b7a-c1da52e396a2"
      },
      "source": [
        "neighbors = NearestNeighbors(n_neighbors=5,\n",
        "                             algorithm='kd_tree').fit(feature_list)\n",
        "%timeit neighbors.kneighbors(random_feature_list)"
      ],
      "execution_count": 60,
      "outputs": [
        {
          "output_type": "stream",
          "name": "stdout",
          "text": [
            "1 loop, best of 5: 8.69 s per loop\n"
          ]
        }
      ]
    },
    {
      "cell_type": "markdown",
      "metadata": {
        "id": "3rLHYQHAjiRK"
      },
      "source": [
        "### Standard features +  Ball Tree Algorithm on a set of images\n",
        "\n",
        "Time the search for the Ball Tree algorithm."
      ]
    },
    {
      "cell_type": "code",
      "metadata": {
        "id": "Lhl0FvTvjiRL",
        "colab": {
          "base_uri": "https://localhost:8080/"
        },
        "outputId": "4a12e288-852a-4c97-b823-33e1313aa965"
      },
      "source": [
        "neighbors = NearestNeighbors(n_neighbors=5,\n",
        "                             algorithm='ball_tree').fit(feature_list)\n",
        "%timeit neighbors.kneighbors(random_feature_list)"
      ],
      "execution_count": 61,
      "outputs": [
        {
          "output_type": "stream",
          "name": "stdout",
          "text": [
            "1 loop, best of 5: 5.64 s per loop\n"
          ]
        }
      ]
    },
    {
      "cell_type": "markdown",
      "metadata": {
        "id": "7qsbTs6QjiRL"
      },
      "source": [
        "### PCA\n",
        "\n",
        "Now we have seen the time it takes to index and search using nearest neighbor algorithms on the full feature length. We can use PCA to compress the features and reduce the time. As before we set the number of features intended."
      ]
    },
    {
      "cell_type": "code",
      "metadata": {
        "id": "Y05Tp59ojiRL"
      },
      "source": [
        "num_feature_dimensions = 100\n",
        "num_feature_dimensions = min(num_images, num_feature_dimensions, len(feature_list[0]))"
      ],
      "execution_count": 62,
      "outputs": []
    },
    {
      "cell_type": "markdown",
      "metadata": {
        "id": "UN4neSfdjiRL"
      },
      "source": [
        "Train the PCA model with the number of desired feature dimensions."
      ]
    },
    {
      "cell_type": "code",
      "metadata": {
        "id": "tg_E5keEjiRL"
      },
      "source": [
        "pca = PCA(n_components=num_feature_dimensions)\n",
        "pca.fit(feature_list)\n",
        "feature_list_compressed = pca.transform(feature_list)\n",
        "feature_list_compressed = feature_list_compressed.tolist()\n",
        "#print(feature_list_compressed)"
      ],
      "execution_count": 63,
      "outputs": []
    },
    {
      "cell_type": "markdown",
      "metadata": {
        "id": "5VzyfG2FjiRL"
      },
      "source": [
        "Let's try to understand the importance of each of the resultant features. The numbers displayed below show the relative importance of the first 20 features."
      ]
    },
    {
      "cell_type": "code",
      "metadata": {
        "id": "rOdTMimsjiRL",
        "colab": {
          "base_uri": "https://localhost:8080/"
        },
        "outputId": "6f807912-ad91-4eae-bbd5-250655c4929d"
      },
      "source": [
        "print(pca.explained_variance_ratio_[0:20])"
      ],
      "execution_count": 64,
      "outputs": [
        {
          "output_type": "stream",
          "name": "stdout",
          "text": [
            "[0.0980664  0.05130073 0.04690164 0.03724571 0.03128028 0.02667752\n",
            " 0.02137872 0.0166554  0.01613193 0.01441177 0.01295428 0.01177393\n",
            " 0.01119185 0.01053516 0.01029318 0.00927576 0.00880797 0.00872749\n",
            " 0.00809281 0.00732378]\n"
          ]
        }
      ]
    },
    {
      "cell_type": "markdown",
      "metadata": {
        "id": "JWZKL-XNjiRL"
      },
      "source": [
        "Repeat the timing experiments. We use the same random image to experiment.\n",
        "Note: the results may change if the image is changed."
      ]
    },
    {
      "cell_type": "markdown",
      "metadata": {
        "id": "jLSDDoBTjiRM"
      },
      "source": [
        "### PCA + Brute Force Algorithm on one image\n",
        "\n",
        "Let's time the indexing for the brute force algorithm."
      ]
    },
    {
      "cell_type": "code",
      "metadata": {
        "id": "4B0XrU_2jiRM",
        "colab": {
          "base_uri": "https://localhost:8080/"
        },
        "outputId": "2d55d0bb-c90d-4c77-c2d5-0b2f13dcb3d8"
      },
      "source": [
        "%timeit NearestNeighbors(n_neighbors=5, algorithm='brute', metric='euclidean').fit(feature_list_compressed)\n",
        "neighbors = NearestNeighbors(n_neighbors=5,\n",
        "                             algorithm='brute',\n",
        "                             metric='euclidean').fit(feature_list_compressed)"
      ],
      "execution_count": 65,
      "outputs": [
        {
          "output_type": "stream",
          "name": "stdout",
          "text": [
            "100 loops, best of 5: 9.92 ms per loop\n"
          ]
        }
      ]
    },
    {
      "cell_type": "markdown",
      "metadata": {
        "id": "kO8lo5qejiRM"
      },
      "source": [
        "We will now time the search for the brute force algorithm."
      ]
    },
    {
      "cell_type": "code",
      "metadata": {
        "scrolled": false,
        "id": "i3DwcHDQjiRM",
        "colab": {
          "base_uri": "https://localhost:8080/"
        },
        "outputId": "f49201cf-4a13-4e7f-e04c-982c67fea21c"
      },
      "source": [
        "%timeit neighbors.kneighbors([feature_list_compressed[random_image_index]])"
      ],
      "execution_count": 66,
      "outputs": [
        {
          "output_type": "stream",
          "name": "stdout",
          "text": [
            "The slowest run took 5.35 times longer than the fastest. This could mean that an intermediate result is being cached.\n",
            "1000 loops, best of 5: 1.05 ms per loop\n"
          ]
        }
      ]
    },
    {
      "cell_type": "markdown",
      "metadata": {
        "id": "0cXylwaZjiRM"
      },
      "source": [
        "###  PCA + k-d Tree Algorithm  on one image\n",
        "\n",
        "Time the indexing for the k-d tree algorithm."
      ]
    },
    {
      "cell_type": "code",
      "metadata": {
        "id": "xzoJzyN6jiRM",
        "colab": {
          "base_uri": "https://localhost:8080/"
        },
        "outputId": "6ed4e55d-7750-4a14-b571-e886e8e563ca"
      },
      "source": [
        "%timeit NearestNeighbors(n_neighbors=5, algorithm='kd_tree').fit(feature_list_compressed)\n",
        "neighbors = NearestNeighbors(n_neighbors=5,\n",
        "                             algorithm='kd_tree').fit(feature_list_compressed)"
      ],
      "execution_count": 67,
      "outputs": [
        {
          "output_type": "stream",
          "name": "stdout",
          "text": [
            "10 loops, best of 5: 25.6 ms per loop\n"
          ]
        }
      ]
    },
    {
      "cell_type": "markdown",
      "metadata": {
        "id": "nV0Kd-COjiRM"
      },
      "source": [
        "Time the search for the k-d tree algorithm."
      ]
    },
    {
      "cell_type": "code",
      "metadata": {
        "id": "uz4R-PJijiRM",
        "colab": {
          "base_uri": "https://localhost:8080/"
        },
        "outputId": "86876b78-b019-4fd3-83db-a364ccda053c"
      },
      "source": [
        "%timeit neighbors.kneighbors([feature_list_compressed[random_image_index]])"
      ],
      "execution_count": 68,
      "outputs": [
        {
          "output_type": "stream",
          "name": "stdout",
          "text": [
            "1000 loops, best of 5: 973 µs per loop\n"
          ]
        }
      ]
    },
    {
      "cell_type": "markdown",
      "metadata": {
        "id": "vQsrBjBKjiRM"
      },
      "source": [
        "###  PCA + Ball Tree Algorithm  on one image\n",
        "\n",
        "Time the indexing for the ball tree algorithm."
      ]
    },
    {
      "cell_type": "code",
      "metadata": {
        "id": "X5KXKxHLjiRM",
        "colab": {
          "base_uri": "https://localhost:8080/"
        },
        "outputId": "1fca5422-20e3-4670-ddf5-5d2b73dfb82b"
      },
      "source": [
        "%timeit NearestNeighbors(n_neighbors=5, algorithm='ball_tree').fit(feature_list_compressed)\n",
        "neighbors = NearestNeighbors(\n",
        "    n_neighbors=5, algorithm='ball_tree').fit(feature_list_compressed)"
      ],
      "execution_count": 69,
      "outputs": [
        {
          "output_type": "stream",
          "name": "stdout",
          "text": [
            "10 loops, best of 5: 20.1 ms per loop\n"
          ]
        }
      ]
    },
    {
      "cell_type": "markdown",
      "metadata": {
        "id": "sS8tajavjiRN"
      },
      "source": [
        "Time the search for the ball tree algorithm."
      ]
    },
    {
      "cell_type": "code",
      "metadata": {
        "id": "zkVaEyBsjiRN",
        "colab": {
          "base_uri": "https://localhost:8080/"
        },
        "outputId": "ca3fcac3-5444-4f90-bd4d-4bdc661c849d"
      },
      "source": [
        "%timeit neighbors.kneighbors([feature_list_compressed[random_image_index]])"
      ],
      "execution_count": 70,
      "outputs": [
        {
          "output_type": "stream",
          "name": "stdout",
          "text": [
            "The slowest run took 7.91 times longer than the fastest. This could mean that an intermediate result is being cached.\n",
            "1000 loops, best of 5: 801 µs per loop\n"
          ]
        }
      ]
    },
    {
      "cell_type": "markdown",
      "metadata": {
        "id": "gUMQw1JUjiRN"
      },
      "source": [
        "We use the same random indices to experiment. Note: the results may change if any of the images are changed.\n",
        "\n",
        "Generate a list of images to do the next set of experiments on."
      ]
    },
    {
      "cell_type": "code",
      "metadata": {
        "id": "0XKiuG2cjiRN"
      },
      "source": [
        "random_feature_list_compressed = [\n",
        "    feature_list_compressed[each_index] for each_index in random_image_indices\n",
        "]"
      ],
      "execution_count": 71,
      "outputs": []
    },
    {
      "cell_type": "markdown",
      "metadata": {
        "id": "Q_TXwq9RjiRN"
      },
      "source": [
        "### PCA + Brute Force Algorithm on a set of images\n",
        "\n",
        "Time the search for the brute force algorithm."
      ]
    },
    {
      "cell_type": "code",
      "metadata": {
        "id": "49YQgO-6jiRN",
        "colab": {
          "base_uri": "https://localhost:8080/"
        },
        "outputId": "2c664833-6d1c-4e02-8197-a219a028e9ac"
      },
      "source": [
        "neighbors = NearestNeighbors(n_neighbors=5,\n",
        "                             algorithm='brute',\n",
        "                             metric='euclidean').fit(feature_list_compressed)\n",
        "%timeit neighbors.kneighbors(random_feature_list_compressed)"
      ],
      "execution_count": 72,
      "outputs": [
        {
          "output_type": "stream",
          "name": "stdout",
          "text": [
            "10 loops, best of 5: 60.8 ms per loop\n"
          ]
        }
      ]
    },
    {
      "cell_type": "markdown",
      "metadata": {
        "id": "cIQew7l1jiRN"
      },
      "source": [
        "### PCA + k-d Tree Algorithm on a set of images\n",
        "\n",
        "Time the search for the k-d tree algorithm."
      ]
    },
    {
      "cell_type": "code",
      "metadata": {
        "id": "jWMk1OLtjiRO",
        "colab": {
          "base_uri": "https://localhost:8080/"
        },
        "outputId": "99f48ff0-12db-4ccc-9676-af26faf85ced"
      },
      "source": [
        "neighbors = NearestNeighbors(n_neighbors=5,\n",
        "                             algorithm='kd_tree').fit(feature_list_compressed)\n",
        "%timeit neighbors.kneighbors(random_feature_list_compressed)"
      ],
      "execution_count": 73,
      "outputs": [
        {
          "output_type": "stream",
          "name": "stdout",
          "text": [
            "1 loop, best of 5: 346 ms per loop\n"
          ]
        }
      ]
    },
    {
      "cell_type": "markdown",
      "metadata": {
        "id": "mahQ1fFvjiRO"
      },
      "source": [
        "### PCA + Ball Tree Algorithm on a set of images\n",
        "\n",
        "Time the search for the Ball Tree algorithm."
      ]
    },
    {
      "cell_type": "code",
      "metadata": {
        "id": "V8N8wOWqjiRO",
        "colab": {
          "base_uri": "https://localhost:8080/"
        },
        "outputId": "d5526e99-18d7-4362-b508-daad2f2bc828"
      },
      "source": [
        "neighbors = NearestNeighbors(\n",
        "    n_neighbors=5, algorithm='ball_tree').fit(feature_list_compressed)\n",
        "%timeit neighbors.kneighbors(random_feature_list_compressed)"
      ],
      "execution_count": 74,
      "outputs": [
        {
          "output_type": "stream",
          "name": "stdout",
          "text": [
            "1 loop, best of 5: 260 ms per loop\n"
          ]
        }
      ]
    },
    {
      "cell_type": "markdown",
      "metadata": {
        "id": "kWZO1tOljiRO"
      },
      "source": [
        "### Annoy \n",
        "\n",
        "Make sure you have `annoy` installed. You can install it using pip, `pip3 install annoy`."
      ]
    },
    {
      "cell_type": "code",
      "metadata": {
        "id": "lWQxB2WfjiRO",
        "colab": {
          "base_uri": "https://localhost:8080/"
        },
        "outputId": "18292fd9-eaea-4c83-964b-55fb73f59562"
      },
      "source": [
        "!pip3 install annoy\n",
        "from annoy import AnnoyIndex"
      ],
      "execution_count": 75,
      "outputs": [
        {
          "output_type": "stream",
          "name": "stdout",
          "text": [
            "Requirement already satisfied: annoy in /usr/local/lib/python3.7/dist-packages (1.17.0)\n"
          ]
        }
      ]
    },
    {
      "cell_type": "code",
      "metadata": {
        "id": "O3AAx1nujiRO",
        "colab": {
          "base_uri": "https://localhost:8080/"
        },
        "outputId": "79709782-fc02-4f89-ca8f-c2be856368e0"
      },
      "source": [
        "# Time the indexing for Annoy\n",
        "t = AnnoyIndex(2048)  # Length of item vector that will be indexed\n",
        "starttime = time.time()\n",
        "for i in range(num_images):\n",
        "    feature = feature_list[i]\n",
        "    t.add_item(i, feature)\n",
        "endtime = time.time()\n",
        "print(endtime - starttime)\n",
        "t.build(40)  # 50 trees\n",
        "t.save('data/udset_index.ann')"
      ],
      "execution_count": 76,
      "outputs": [
        {
          "output_type": "stream",
          "name": "stderr",
          "text": [
            "/usr/local/lib/python3.7/dist-packages/ipykernel_launcher.py:2: FutureWarning: The default argument for metric will be removed in future version of Annoy. Please pass metric='angular' explicitly.\n",
            "  \n"
          ]
        },
        {
          "output_type": "stream",
          "name": "stdout",
          "text": [
            "0.7478163242340088\n"
          ]
        },
        {
          "output_type": "execute_result",
          "data": {
            "text/plain": [
              "True"
            ]
          },
          "metadata": {},
          "execution_count": 76
        }
      ]
    },
    {
      "cell_type": "markdown",
      "metadata": {
        "id": "OpZi2UbXjiRO"
      },
      "source": [
        "### Annoy on one image \n",
        "\n",
        "Time the search for one image for Annoy."
      ]
    },
    {
      "cell_type": "code",
      "metadata": {
        "id": "_LqWnoitjiRO",
        "colab": {
          "base_uri": "https://localhost:8080/"
        },
        "outputId": "bc328fac-91f8-4820-fe5e-d9e8d4dbf02e"
      },
      "source": [
        "u = AnnoyIndex(2048)\n",
        "%timeit u.get_nns_by_vector(feature_list[random_image_index], 5, include_distances=True)\n",
        "indexes = u.get_nns_by_vector(feature_list[random_image_index],\n",
        "                              5,\n",
        "                              include_distances=True)"
      ],
      "execution_count": 77,
      "outputs": [
        {
          "output_type": "stream",
          "name": "stderr",
          "text": [
            "/usr/local/lib/python3.7/dist-packages/ipykernel_launcher.py:1: FutureWarning: The default argument for metric will be removed in future version of Annoy. Please pass metric='angular' explicitly.\n",
            "  \"\"\"Entry point for launching an IPython kernel.\n"
          ]
        },
        {
          "output_type": "stream",
          "name": "stdout",
          "text": [
            "1000 loops, best of 5: 325 µs per loop\n"
          ]
        }
      ]
    },
    {
      "cell_type": "markdown",
      "metadata": {
        "id": "Zfa2YGi6jiRO"
      },
      "source": [
        "Helper function to time the search for multiple images for Annoy. Perform the search for the same image multiple times to get an average value.\n"
      ]
    },
    {
      "cell_type": "code",
      "metadata": {
        "id": "lAcy_cjWjiRP"
      },
      "source": [
        "def calculate_annoy_time():\n",
        "    for i in range(0, 100):\n",
        "        indexes = u.get_nns_by_vector(feature_list[random_image_index],\n",
        "                                      5,\n",
        "                                      include_distances=True)\n",
        "        #print(indexes)"
      ],
      "execution_count": 78,
      "outputs": []
    },
    {
      "cell_type": "markdown",
      "metadata": {
        "id": "Sc4r5kNHjiRP"
      },
      "source": [
        "### Annoy on a set of images\n",
        "\n",
        "Time the search for multiple images for Annoy."
      ]
    },
    {
      "cell_type": "code",
      "metadata": {
        "id": "74fDCvSwjiRP",
        "colab": {
          "base_uri": "https://localhost:8080/"
        },
        "outputId": "e2775a3a-a2d9-4d00-a620-8de78594419b"
      },
      "source": [
        "%time calculate_annoy_time()"
      ],
      "execution_count": 79,
      "outputs": [
        {
          "output_type": "stream",
          "name": "stdout",
          "text": [
            "CPU times: user 38.8 ms, sys: 263 µs, total: 39.1 ms\n",
            "Wall time: 36.8 ms\n"
          ]
        }
      ]
    },
    {
      "cell_type": "markdown",
      "metadata": {
        "id": "SkFPjtwkjiRP"
      },
      "source": [
        "### PCA + Annoy\n",
        "\n",
        "Now, let's time the indexing for Annoy for the PCA generated features."
      ]
    },
    {
      "cell_type": "code",
      "metadata": {
        "id": "AHYeKOJTjiRP",
        "colab": {
          "base_uri": "https://localhost:8080/"
        },
        "outputId": "7463ee49-bc8c-44d6-c54e-3acb27d3e71c"
      },
      "source": [
        "starttime = time.time()\n",
        "# Length of item vector that will be indexed\n",
        "t = AnnoyIndex(num_feature_dimensions)\n",
        "\n",
        "for i in range(num_images):\n",
        "    feature = feature_list_compressed[i]\n",
        "    t.add_item(i, feature)\n",
        "endtime = time.time()\n",
        "print(endtime - starttime)\n",
        "t.build(40)  # 50 trees\n",
        "t.save('data/udset_index.ann')"
      ],
      "execution_count": 80,
      "outputs": [
        {
          "output_type": "stream",
          "name": "stdout",
          "text": [
            "0.008975028991699219\n"
          ]
        },
        {
          "output_type": "stream",
          "name": "stderr",
          "text": [
            "/usr/local/lib/python3.7/dist-packages/ipykernel_launcher.py:3: FutureWarning: The default argument for metric will be removed in future version of Annoy. Please pass metric='angular' explicitly.\n",
            "  This is separate from the ipykernel package so we can avoid doing imports until\n"
          ]
        },
        {
          "output_type": "execute_result",
          "data": {
            "text/plain": [
              "True"
            ]
          },
          "metadata": {},
          "execution_count": 80
        }
      ]
    },
    {
      "cell_type": "markdown",
      "metadata": {
        "id": "3vVPHRIzjiRP"
      },
      "source": [
        "### PCA + Annoy for one image\n",
        "\n",
        "Time the search for one image for Annoy."
      ]
    },
    {
      "cell_type": "code",
      "metadata": {
        "id": "1OgMlZNAjiRP",
        "colab": {
          "base_uri": "https://localhost:8080/"
        },
        "outputId": "e3bfc172-488a-410d-e7b4-2a6a63abc2f5"
      },
      "source": [
        "u = AnnoyIndex(num_feature_dimensions)\n",
        "%timeit u.get_nns_by_vector(feature_list_compressed[random_image_index], 5, include_distances=True)\n",
        "indexes = u.get_nns_by_vector(feature_list_compressed[random_image_index],\n",
        "                              5,\n",
        "                              include_distances=True)"
      ],
      "execution_count": 81,
      "outputs": [
        {
          "output_type": "stream",
          "name": "stderr",
          "text": [
            "/usr/local/lib/python3.7/dist-packages/ipykernel_launcher.py:1: FutureWarning: The default argument for metric will be removed in future version of Annoy. Please pass metric='angular' explicitly.\n",
            "  \"\"\"Entry point for launching an IPython kernel.\n"
          ]
        },
        {
          "output_type": "stream",
          "name": "stdout",
          "text": [
            "100000 loops, best of 5: 2.73 µs per loop\n"
          ]
        }
      ]
    },
    {
      "cell_type": "markdown",
      "metadata": {
        "id": "LcxFjFtqjiRP"
      },
      "source": [
        "Helper function to time the search for multiple images for Annoy. Perform the search for the same image multiple times to get an average value.\n"
      ]
    },
    {
      "cell_type": "code",
      "metadata": {
        "id": "W8MLTLkfjiRP"
      },
      "source": [
        "def calculate_annoy_time():\n",
        "    for i in range(0, 100):\n",
        "        indexes = u.get_nns_by_vector(\n",
        "            feature_list_compressed[random_image_index],\n",
        "            5,\n",
        "            include_distances=True)"
      ],
      "execution_count": 82,
      "outputs": []
    },
    {
      "cell_type": "markdown",
      "metadata": {
        "id": "wNbld5MPjiRQ"
      },
      "source": [
        "### PCA + Annoy on a set of images\n",
        "\n",
        "Time the search for multiple images for Annoy."
      ]
    },
    {
      "cell_type": "code",
      "metadata": {
        "id": "2Y5L43sejiRQ",
        "colab": {
          "base_uri": "https://localhost:8080/"
        },
        "outputId": "d8184650-90af-4739-9dd2-6e71b14fc57e"
      },
      "source": [
        "%time calculate_annoy_time()"
      ],
      "execution_count": 83,
      "outputs": [
        {
          "output_type": "stream",
          "name": "stdout",
          "text": [
            "CPU times: user 1.12 ms, sys: 154 µs, total: 1.28 ms\n",
            "Wall time: 1.57 ms\n"
          ]
        }
      ]
    },
    {
      "cell_type": "markdown",
      "metadata": {
        "id": "LO-ZukmZjiRQ"
      },
      "source": [
        "### NMS Lib"
      ]
    },
    {
      "cell_type": "code",
      "metadata": {
        "id": "JUV5OIntjiRQ",
        "colab": {
          "base_uri": "https://localhost:8080/"
        },
        "outputId": "b81dec53-a55e-40d3-80e0-d2576b8b136d"
      },
      "source": [
        "!pip install nmslib\n",
        "import nmslib"
      ],
      "execution_count": 84,
      "outputs": [
        {
          "output_type": "stream",
          "name": "stdout",
          "text": [
            "Requirement already satisfied: nmslib in /usr/local/lib/python3.7/dist-packages (2.1.1)\n",
            "Requirement already satisfied: pybind11<2.6.2 in /usr/local/lib/python3.7/dist-packages (from nmslib) (2.6.1)\n",
            "Requirement already satisfied: psutil in /usr/local/lib/python3.7/dist-packages (from nmslib) (5.4.8)\n",
            "Requirement already satisfied: numpy>=1.10.0 in /usr/local/lib/python3.7/dist-packages (from nmslib) (1.19.5)\n"
          ]
        }
      ]
    },
    {
      "cell_type": "code",
      "metadata": {
        "id": "vbKmTzr5jiRQ"
      },
      "source": [
        "index = nmslib.init(method='hnsw', space='cosinesimil')\n",
        "index.addDataPointBatch(feature_list_compressed)\n",
        "index.createIndex({'post': 2}, print_progress=True)"
      ],
      "execution_count": 85,
      "outputs": []
    },
    {
      "cell_type": "markdown",
      "metadata": {
        "id": "zPdv3yPQjiRQ"
      },
      "source": [
        "### NMS Lib on one image"
      ]
    },
    {
      "cell_type": "code",
      "metadata": {
        "id": "2iCCmnzLjiRQ",
        "colab": {
          "base_uri": "https://localhost:8080/"
        },
        "outputId": "9f70ec77-90ee-4ef8-af92-282316a142b6"
      },
      "source": [
        "# Query for the nearest neighbors of the first datapoint\n",
        "%timeit index.knnQuery(feature_list_compressed[random_image_index], k=5)\n",
        "ids, distances = index.knnQuery(feature_list_compressed[random_image_index],\n",
        "                                k=5)"
      ],
      "execution_count": 86,
      "outputs": [
        {
          "output_type": "stream",
          "name": "stdout",
          "text": [
            "The slowest run took 11.31 times longer than the fastest. This could mean that an intermediate result is being cached.\n",
            "10000 loops, best of 5: 22 µs per loop\n"
          ]
        }
      ]
    },
    {
      "cell_type": "markdown",
      "metadata": {
        "id": "MkCl1nOhjiRQ"
      },
      "source": [
        "### NMS Lib on a set of images"
      ]
    },
    {
      "cell_type": "code",
      "metadata": {
        "id": "9YDXoRq9jiRQ",
        "colab": {
          "base_uri": "https://localhost:8080/"
        },
        "outputId": "b84dd677-b334-4b36-e457-070b80e5bad9"
      },
      "source": [
        "# Get all nearest neighbors for all the datapoint\n",
        "# using a pool of 4 threads to compute\n",
        "%timeit index.knnQueryBatch(feature_list_compressed, k=5, num_threads=16)\n",
        "neighbors = index.knnQueryBatch(feature_list_compressed, k=5, num_threads=16)"
      ],
      "execution_count": 87,
      "outputs": [
        {
          "output_type": "stream",
          "name": "stdout",
          "text": [
            "10 loops, best of 5: 41 ms per loop\n"
          ]
        }
      ]
    },
    {
      "cell_type": "markdown",
      "metadata": {
        "id": "1J7Wpp4tjiRR"
      },
      "source": [
        "### Falconn\n"
      ]
    },
    {
      "cell_type": "code",
      "metadata": {
        "id": "jrFzjS-DjiRR",
        "colab": {
          "base_uri": "https://localhost:8080/"
        },
        "outputId": "869d99dc-eb5c-48dc-eda5-53e4673384e7"
      },
      "source": [
        "!pip install falconn\n",
        "import falconn"
      ],
      "execution_count": 88,
      "outputs": [
        {
          "output_type": "stream",
          "name": "stdout",
          "text": [
            "Requirement already satisfied: falconn in /usr/local/lib/python3.7/dist-packages (1.3.1)\n"
          ]
        }
      ]
    },
    {
      "cell_type": "code",
      "metadata": {
        "id": "zrKFBKa6jiRR"
      },
      "source": [
        "# Setup different parameters for Falonn\n",
        "parameters = falconn.LSHConstructionParameters()\n",
        "num_tables = 1\n",
        "parameters.l = num_tables\n",
        "parameters.dimension = num_feature_dimensions\n",
        "parameters.distance_function = falconn.DistanceFunction.EuclideanSquared\n",
        "parameters.lsh_family = falconn.LSHFamily.CrossPolytope\n",
        "parameters.num_rotations = 1\n",
        "parameters.num_setup_threads = 1\n",
        "parameters.storage_hash_table = falconn.StorageHashTable.BitPackedFlatHashTable\n",
        "\n",
        "# Train the Falconn model\n",
        "falconn.compute_number_of_hash_functions(16, parameters)"
      ],
      "execution_count": 89,
      "outputs": []
    },
    {
      "cell_type": "markdown",
      "metadata": {
        "id": "DAK1ST32jiRR"
      },
      "source": [
        "### Falconn on a set of images"
      ]
    },
    {
      "cell_type": "code",
      "metadata": {
        "id": "g8cScRLHjiRR",
        "colab": {
          "base_uri": "https://localhost:8080/"
        },
        "outputId": "c2892078-bb8f-4abc-a16d-229587380f4d"
      },
      "source": [
        "dataset = np.array(feature_list_compressed)\n",
        "a = np.random.randn(8677, 100)\n",
        "a /= np.linalg.norm(a, axis=1).reshape(-1, 1)\n",
        "dataset = a\n",
        "\n",
        "index = falconn.LSHIndex(parameters)\n",
        "%time index.setup(dataset)\n",
        "\n",
        "query_object = index.construct_query_object()\n",
        "num_probes = 1\n",
        "query_object.set_num_probes(num_probes)\n",
        "\n",
        "searchQuery = np.array(feature_list_compressed[random_image_index])\n",
        "searchQuery = a[0]\n",
        "%timeit query_object.find_k_nearest_neighbors(searchQuery, 5)"
      ],
      "execution_count": 90,
      "outputs": [
        {
          "output_type": "stream",
          "name": "stdout",
          "text": [
            "CPU times: user 12.3 ms, sys: 0 ns, total: 12.3 ms\n",
            "Wall time: 12.8 ms\n",
            "The slowest run took 27.38 times longer than the fastest. This could mean that an intermediate result is being cached.\n",
            "100000 loops, best of 5: 4.32 µs per loop\n"
          ]
        }
      ]
    },
    {
      "cell_type": "markdown",
      "metadata": {
        "id": "-gcVoAp8jiRR"
      },
      "source": [
        "### PCA + Annoy"
      ]
    },
    {
      "cell_type": "code",
      "metadata": {
        "id": "M_JvAYp3jiRR",
        "colab": {
          "base_uri": "https://localhost:8080/"
        },
        "outputId": "af86f249-0687-4c3e-b493-f07c70962e6c"
      },
      "source": [
        "# Time the indexing for Annoy for the PCA generated features\n",
        "starttime = time.time()\n",
        "# Length of item vector that will be indexed\n",
        "t = AnnoyIndex(num_feature_dimensions)\n",
        "\n",
        "for i in range(num_images):\n",
        "    feature = dataset[i]\n",
        "    t.add_item(i, feature)\n",
        "endtime = time.time()\n",
        "print(endtime - starttime)\n",
        "t.build(40)  # 40 trees\n",
        "t.save('data/udset_index.ann')"
      ],
      "execution_count": 91,
      "outputs": [
        {
          "output_type": "stream",
          "name": "stdout",
          "text": [
            "0.039916038513183594\n"
          ]
        },
        {
          "output_type": "stream",
          "name": "stderr",
          "text": [
            "/usr/local/lib/python3.7/dist-packages/ipykernel_launcher.py:4: FutureWarning: The default argument for metric will be removed in future version of Annoy. Please pass metric='angular' explicitly.\n",
            "  after removing the cwd from sys.path.\n"
          ]
        },
        {
          "output_type": "execute_result",
          "data": {
            "text/plain": [
              "True"
            ]
          },
          "metadata": {},
          "execution_count": 91
        }
      ]
    },
    {
      "cell_type": "code",
      "metadata": {
        "id": "RyqMvURmjiRR",
        "colab": {
          "base_uri": "https://localhost:8080/"
        },
        "outputId": "45dd191e-c3f8-44cc-cd8c-7dce9ff2ee10"
      },
      "source": [
        "u = AnnoyIndex(num_feature_dimensions)\n",
        "# Time the search for one image for Annoy\n",
        "%timeit u.get_nns_by_vector(dataset[random_image_index], 5, include_distances=True)\n",
        "indexes = u.get_nns_by_vector(dataset[random_image_index],\n",
        "                              5,\n",
        "                              include_distances=True)"
      ],
      "execution_count": 92,
      "outputs": [
        {
          "output_type": "stream",
          "name": "stderr",
          "text": [
            "/usr/local/lib/python3.7/dist-packages/ipykernel_launcher.py:1: FutureWarning: The default argument for metric will be removed in future version of Annoy. Please pass metric='angular' explicitly.\n",
            "  \"\"\"Entry point for launching an IPython kernel.\n"
          ]
        },
        {
          "output_type": "stream",
          "name": "stdout",
          "text": [
            "10000 loops, best of 5: 15.4 µs per loop\n"
          ]
        }
      ]
    },
    {
      "cell_type": "markdown",
      "metadata": {
        "id": "bllnLarcjiRR"
      },
      "source": [
        "#TBD Record the benchmark data in a table and display to see relative speed "
      ]
    }
  ]
}