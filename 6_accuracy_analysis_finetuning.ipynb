{
  "nbformat": 4,
  "nbformat_minor": 0,
  "metadata": {
    "kernelspec": {
      "display_name": "Python 3",
      "language": "python",
      "name": "python3"
    },
    "language_info": {
      "codemirror_mode": {
        "name": "ipython",
        "version": 3
      },
      "file_extension": ".py",
      "mimetype": "text/x-python",
      "name": "python",
      "nbconvert_exporter": "python",
      "pygments_lexer": "ipython3",
      "version": "3.6.8"
    },
    "toc": {
      "base_numbering": 1,
      "nav_menu": {},
      "number_sections": true,
      "sideBar": true,
      "skip_h1_title": false,
      "title_cell": "Table of Contents",
      "title_sidebar": "Contents",
      "toc_cell": false,
      "toc_position": {},
      "toc_section_display": true,
      "toc_window_display": false
    },
    "colab": {
      "name": "6_accuracy_analysis_finetuning.ipynb",
      "provenance": [],
      "collapsed_sections": [],
      "include_colab_link": true
    },
    "widgets": {
      "application/vnd.jupyter.widget-state+json": {
        "b1d527189188410eb601a12f459b2c4e": {
          "model_module": "@jupyter-widgets/controls",
          "model_name": "HBoxModel",
          "model_module_version": "1.5.0",
          "state": {
            "_view_name": "HBoxView",
            "_dom_classes": [],
            "_model_name": "HBoxModel",
            "_view_module": "@jupyter-widgets/controls",
            "_model_module_version": "1.5.0",
            "_view_count": null,
            "_view_module_version": "1.5.0",
            "box_style": "",
            "layout": "IPY_MODEL_7b8117c0bc514018895ef1c6e8ac5ef1",
            "_model_module": "@jupyter-widgets/controls",
            "children": [
              "IPY_MODEL_0a40d8e7bcf24e8a93fcedc5b09b4e56",
              "IPY_MODEL_bd45c3bb35ad48e8b61b3bfeb0352719",
              "IPY_MODEL_55ce4eb407a94b0083b068f12fe492a4"
            ]
          }
        },
        "7b8117c0bc514018895ef1c6e8ac5ef1": {
          "model_module": "@jupyter-widgets/base",
          "model_name": "LayoutModel",
          "model_module_version": "1.2.0",
          "state": {
            "_view_name": "LayoutView",
            "grid_template_rows": null,
            "right": null,
            "justify_content": null,
            "_view_module": "@jupyter-widgets/base",
            "overflow": null,
            "_model_module_version": "1.2.0",
            "_view_count": null,
            "flex_flow": null,
            "width": null,
            "min_width": null,
            "border": null,
            "align_items": null,
            "bottom": null,
            "_model_module": "@jupyter-widgets/base",
            "top": null,
            "grid_column": null,
            "overflow_y": null,
            "overflow_x": null,
            "grid_auto_flow": null,
            "grid_area": null,
            "grid_template_columns": null,
            "flex": null,
            "_model_name": "LayoutModel",
            "justify_items": null,
            "grid_row": null,
            "max_height": null,
            "align_content": null,
            "visibility": null,
            "align_self": null,
            "height": null,
            "min_height": null,
            "padding": null,
            "grid_auto_rows": null,
            "grid_gap": null,
            "max_width": null,
            "order": null,
            "_view_module_version": "1.2.0",
            "grid_template_areas": null,
            "object_position": null,
            "object_fit": null,
            "grid_auto_columns": null,
            "margin": null,
            "display": null,
            "left": null
          }
        },
        "0a40d8e7bcf24e8a93fcedc5b09b4e56": {
          "model_module": "@jupyter-widgets/controls",
          "model_name": "HTMLModel",
          "model_module_version": "1.5.0",
          "state": {
            "_view_name": "HTMLView",
            "style": "IPY_MODEL_4fd1da24ccd74827afe3902a45608a47",
            "_dom_classes": [],
            "description": "",
            "_model_name": "HTMLModel",
            "placeholder": "​",
            "_view_module": "@jupyter-widgets/controls",
            "_model_module_version": "1.5.0",
            "value": "100%",
            "_view_count": null,
            "_view_module_version": "1.5.0",
            "description_tooltip": null,
            "_model_module": "@jupyter-widgets/controls",
            "layout": "IPY_MODEL_38385f4756794f15a6f2d99143d9c117"
          }
        },
        "bd45c3bb35ad48e8b61b3bfeb0352719": {
          "model_module": "@jupyter-widgets/controls",
          "model_name": "FloatProgressModel",
          "model_module_version": "1.5.0",
          "state": {
            "_view_name": "ProgressView",
            "style": "IPY_MODEL_fae12e5b8cb8443fa1d97455c53e8ee5",
            "_dom_classes": [],
            "description": "",
            "_model_name": "FloatProgressModel",
            "bar_style": "success",
            "max": 2100,
            "_view_module": "@jupyter-widgets/controls",
            "_model_module_version": "1.5.0",
            "value": 2100,
            "_view_count": null,
            "_view_module_version": "1.5.0",
            "orientation": "horizontal",
            "min": 0,
            "description_tooltip": null,
            "_model_module": "@jupyter-widgets/controls",
            "layout": "IPY_MODEL_ef6571343ebd4a4f9173e2734e856742"
          }
        },
        "55ce4eb407a94b0083b068f12fe492a4": {
          "model_module": "@jupyter-widgets/controls",
          "model_name": "HTMLModel",
          "model_module_version": "1.5.0",
          "state": {
            "_view_name": "HTMLView",
            "style": "IPY_MODEL_297f736745ac4ca69e8de8fe466f164f",
            "_dom_classes": [],
            "description": "",
            "_model_name": "HTMLModel",
            "placeholder": "​",
            "_view_module": "@jupyter-widgets/controls",
            "_model_module_version": "1.5.0",
            "value": " 2100/2100 [00:04&lt;00:00, 488.64it/s]",
            "_view_count": null,
            "_view_module_version": "1.5.0",
            "description_tooltip": null,
            "_model_module": "@jupyter-widgets/controls",
            "layout": "IPY_MODEL_718e6d158eec44e6844ea83a769a2757"
          }
        },
        "4fd1da24ccd74827afe3902a45608a47": {
          "model_module": "@jupyter-widgets/controls",
          "model_name": "DescriptionStyleModel",
          "model_module_version": "1.5.0",
          "state": {
            "_view_name": "StyleView",
            "_model_name": "DescriptionStyleModel",
            "description_width": "",
            "_view_module": "@jupyter-widgets/base",
            "_model_module_version": "1.5.0",
            "_view_count": null,
            "_view_module_version": "1.2.0",
            "_model_module": "@jupyter-widgets/controls"
          }
        },
        "38385f4756794f15a6f2d99143d9c117": {
          "model_module": "@jupyter-widgets/base",
          "model_name": "LayoutModel",
          "model_module_version": "1.2.0",
          "state": {
            "_view_name": "LayoutView",
            "grid_template_rows": null,
            "right": null,
            "justify_content": null,
            "_view_module": "@jupyter-widgets/base",
            "overflow": null,
            "_model_module_version": "1.2.0",
            "_view_count": null,
            "flex_flow": null,
            "width": null,
            "min_width": null,
            "border": null,
            "align_items": null,
            "bottom": null,
            "_model_module": "@jupyter-widgets/base",
            "top": null,
            "grid_column": null,
            "overflow_y": null,
            "overflow_x": null,
            "grid_auto_flow": null,
            "grid_area": null,
            "grid_template_columns": null,
            "flex": null,
            "_model_name": "LayoutModel",
            "justify_items": null,
            "grid_row": null,
            "max_height": null,
            "align_content": null,
            "visibility": null,
            "align_self": null,
            "height": null,
            "min_height": null,
            "padding": null,
            "grid_auto_rows": null,
            "grid_gap": null,
            "max_width": null,
            "order": null,
            "_view_module_version": "1.2.0",
            "grid_template_areas": null,
            "object_position": null,
            "object_fit": null,
            "grid_auto_columns": null,
            "margin": null,
            "display": null,
            "left": null
          }
        },
        "fae12e5b8cb8443fa1d97455c53e8ee5": {
          "model_module": "@jupyter-widgets/controls",
          "model_name": "ProgressStyleModel",
          "model_module_version": "1.5.0",
          "state": {
            "_view_name": "StyleView",
            "_model_name": "ProgressStyleModel",
            "description_width": "",
            "_view_module": "@jupyter-widgets/base",
            "_model_module_version": "1.5.0",
            "_view_count": null,
            "_view_module_version": "1.2.0",
            "bar_color": null,
            "_model_module": "@jupyter-widgets/controls"
          }
        },
        "ef6571343ebd4a4f9173e2734e856742": {
          "model_module": "@jupyter-widgets/base",
          "model_name": "LayoutModel",
          "model_module_version": "1.2.0",
          "state": {
            "_view_name": "LayoutView",
            "grid_template_rows": null,
            "right": null,
            "justify_content": null,
            "_view_module": "@jupyter-widgets/base",
            "overflow": null,
            "_model_module_version": "1.2.0",
            "_view_count": null,
            "flex_flow": null,
            "width": null,
            "min_width": null,
            "border": null,
            "align_items": null,
            "bottom": null,
            "_model_module": "@jupyter-widgets/base",
            "top": null,
            "grid_column": null,
            "overflow_y": null,
            "overflow_x": null,
            "grid_auto_flow": null,
            "grid_area": null,
            "grid_template_columns": null,
            "flex": null,
            "_model_name": "LayoutModel",
            "justify_items": null,
            "grid_row": null,
            "max_height": null,
            "align_content": null,
            "visibility": null,
            "align_self": null,
            "height": null,
            "min_height": null,
            "padding": null,
            "grid_auto_rows": null,
            "grid_gap": null,
            "max_width": null,
            "order": null,
            "_view_module_version": "1.2.0",
            "grid_template_areas": null,
            "object_position": null,
            "object_fit": null,
            "grid_auto_columns": null,
            "margin": null,
            "display": null,
            "left": null
          }
        },
        "297f736745ac4ca69e8de8fe466f164f": {
          "model_module": "@jupyter-widgets/controls",
          "model_name": "DescriptionStyleModel",
          "model_module_version": "1.5.0",
          "state": {
            "_view_name": "StyleView",
            "_model_name": "DescriptionStyleModel",
            "description_width": "",
            "_view_module": "@jupyter-widgets/base",
            "_model_module_version": "1.5.0",
            "_view_count": null,
            "_view_module_version": "1.2.0",
            "_model_module": "@jupyter-widgets/controls"
          }
        },
        "718e6d158eec44e6844ea83a769a2757": {
          "model_module": "@jupyter-widgets/base",
          "model_name": "LayoutModel",
          "model_module_version": "1.2.0",
          "state": {
            "_view_name": "LayoutView",
            "grid_template_rows": null,
            "right": null,
            "justify_content": null,
            "_view_module": "@jupyter-widgets/base",
            "overflow": null,
            "_model_module_version": "1.2.0",
            "_view_count": null,
            "flex_flow": null,
            "width": null,
            "min_width": null,
            "border": null,
            "align_items": null,
            "bottom": null,
            "_model_module": "@jupyter-widgets/base",
            "top": null,
            "grid_column": null,
            "overflow_y": null,
            "overflow_x": null,
            "grid_auto_flow": null,
            "grid_area": null,
            "grid_template_columns": null,
            "flex": null,
            "_model_name": "LayoutModel",
            "justify_items": null,
            "grid_row": null,
            "max_height": null,
            "align_content": null,
            "visibility": null,
            "align_self": null,
            "height": null,
            "min_height": null,
            "padding": null,
            "grid_auto_rows": null,
            "grid_gap": null,
            "max_width": null,
            "order": null,
            "_view_module_version": "1.2.0",
            "grid_template_areas": null,
            "object_position": null,
            "object_fit": null,
            "grid_auto_columns": null,
            "margin": null,
            "display": null,
            "left": null
          }
        }
      }
    }
  },
  "cells": [
    {
      "cell_type": "markdown",
      "metadata": {
        "id": "view-in-github",
        "colab_type": "text"
      },
      "source": [
        "<a href=\"https://colab.research.google.com/github/shankch/reverse-image/blob/main/6_accuracy_analysis_finetuning.ipynb\" target=\"_parent\"><img src=\"https://colab.research.google.com/assets/colab-badge.svg\" alt=\"Open In Colab\"/></a>"
      ]
    },
    {
      "cell_type": "markdown",
      "metadata": {
        "id": "6M_QXLoZj1QA"
      },
      "source": [
        "# Improving accuracy with Fine-Tuning\n",
        "\n",
        "\n",
        "Many of the pre-trained models were trained on the ImageNet dataset. Therefore, they provide an incredible starting point for similarity computations in most situations. That said, if you tune these models to adapt to your specific problem, they would perform even more accurately for finding similar images. \n",
        "\n",
        "In this portion, we will find the least accurate (worst) performing categories, visualize them with t-SNE, fine-tune and then see how their t-SNE graph changes."
      ]
    },
    {
      "cell_type": "code",
      "metadata": {
        "colab": {
          "base_uri": "https://localhost:8080/"
        },
        "id": "1zhXKP6Oj57d",
        "outputId": "b28e47b6-acfe-4dc6-fb26-bd81bb30a1f6"
      },
      "source": [
        "#from google.colab import drive\n",
        "#drive.mount('/content/drive')\n",
        "#!mkdir data\n",
        "#!cp -a drive/MyDrive/c99t1/* data/"
      ],
      "execution_count": 1,
      "outputs": [
        {
          "output_type": "stream",
          "name": "stdout",
          "text": [
            "Mounted at /content/drive\n"
          ]
        }
      ]
    },
    {
      "cell_type": "code",
      "metadata": {
        "id": "D1R2EpE2j1QB"
      },
      "source": [
        "import numpy as np\n",
        "import pickle\n",
        "from tqdm import tqdm, tqdm_notebook\n",
        "import random\n",
        "import time\n",
        "from sklearn.manifold import TSNE\n",
        "from sklearn.decomposition import PCA\n",
        "import PIL\n",
        "from PIL import Image\n",
        "from sklearn.neighbors import NearestNeighbors\n",
        "import random\n",
        "from textwrap import wrap\n",
        "\n",
        "import glob\n",
        "import matplotlib\n",
        "import matplotlib.pyplot as plt\n",
        "import matplotlib.image as mpimg\n",
        "%matplotlib inline"
      ],
      "execution_count": 3,
      "outputs": []
    },
    {
      "cell_type": "markdown",
      "metadata": {
        "id": "sL6WHAwmj1QC"
      },
      "source": [
        "We utilize the helper functions we used before in previous notebooks here as well"
      ]
    },
    {
      "cell_type": "code",
      "metadata": {
        "id": "x_xpSX39j1QC"
      },
      "source": [
        "# Helper function to get the classname\n",
        "def classname(str):\n",
        "    return str.split('/')[-2]"
      ],
      "execution_count": 4,
      "outputs": []
    },
    {
      "cell_type": "markdown",
      "metadata": {
        "id": "ZpnnKYoBj1QD"
      },
      "source": [
        "Helper function to display accuracy stats and plot similar images"
      ]
    },
    {
      "cell_type": "code",
      "metadata": {
        "id": "OWOzDRrVj1QD"
      },
      "source": [
        "def display(dic, per_class, neighbors, message):\n",
        "    for key in dic:\n",
        "        print(key, \"\\tAccuracy: \", per_class[key])\n",
        "    for each_class in dic:\n",
        "        indices_of_class = [\n",
        "            i for i, j in enumerate(filenames) if classname(j) == each_class\n",
        "        ]\n",
        "        random_image_index = random.choice(indices_of_class)\n",
        "        distances, indices = neighbors.kneighbors(\n",
        "            [feature_list[random_image_index]])\n",
        "        similar_image_paths = [filenames[random_image_index]] + \\\n",
        "            [filenames[indices[0][i]] for i in range(1, 4)]\n",
        "        plot_images(similar_image_paths, distances[0], message)"
      ],
      "execution_count": 5,
      "outputs": []
    },
    {
      "cell_type": "markdown",
      "metadata": {
        "id": "jc_MVKjhj1QE"
      },
      "source": [
        "Helper function that calculates accuracy using the Nearest Neighbours Brute force algorithm and returns the classes that the model performed least accurately on"
      ]
    },
    {
      "cell_type": "code",
      "metadata": {
        "id": "kBGFpHt7j1QF"
      },
      "source": [
        "def get_least_accurate_classes(feature_list):\n",
        "    per_class_acc = {}\n",
        "    num_nearest_neighbors = 5\n",
        "    num_correct_predictions = 0\n",
        "    num_incorrect_predictions = 0\n",
        "    neighbors = NearestNeighbors(n_neighbors=num_nearest_neighbors,\n",
        "                                 algorithm='brute',\n",
        "                                 metric='euclidean').fit(feature_list)\n",
        "    for i in tqdm_notebook(range(len(feature_list))):\n",
        "        distances, indices = neighbors.kneighbors([feature_list[i]])\n",
        "        for j in range(1, num_nearest_neighbors):\n",
        "            predicted_class = classname(filenames[indices[0][j]])\n",
        "            ground_truth = classname(filenames[i])\n",
        "            if (predicted_class not in per_class_acc):\n",
        "                per_class_acc[predicted_class] = [0, 0, 0]\n",
        "            if ground_truth == predicted_class:\n",
        "                num_correct_predictions += 1\n",
        "                per_class_acc[predicted_class][0] += 1\n",
        "                per_class_acc[predicted_class][2] += 1\n",
        "            else:\n",
        "                num_incorrect_predictions += 1\n",
        "                per_class_acc[predicted_class][1] += 1\n",
        "                per_class_acc[predicted_class][2] += 1\n",
        "    print(\n",
        "        \"Accuracy is \",\n",
        "        round(\n",
        "            100.0 * num_correct_predictions /\n",
        "            (1.0 * num_correct_predictions + num_incorrect_predictions), 2))\n",
        "    for key, value in per_class_acc.items():\n",
        "        per_class_acc[key] = round(100.0 * value[0] / (1.0 * value[2]), 2)\n",
        "    dic = sorted(per_class_acc, key=per_class_acc.get)\n",
        "\n",
        "    # least_accurate classes\n",
        "    print(\"\\n\\nTop 10 incorrect classifications\\n\")\n",
        "    for key in dic[:10]:\n",
        "        print(key, \"\\tAccuracy: \", per_class_acc[key])\n",
        "    return dic[:6], per_class_acc"
      ],
      "execution_count": 6,
      "outputs": []
    },
    {
      "cell_type": "markdown",
      "metadata": {
        "id": "FXnjJRnmj1QF"
      },
      "source": [
        "Load the features of the UC Merced Land Use dataset to run our experiments on"
      ]
    },
    {
      "cell_type": "code",
      "metadata": {
        "id": "m7RIKiCXj1QG"
      },
      "source": [
        "# Load dataset features\n",
        "filenames = pickle.load(open('data/filenames-udset.pickle', 'rb'))\n",
        "feature_list = pickle.load(open('data/features-udset-resnet.pickle', 'rb'))\n",
        "class_ids = pickle.load(open('data/class_ids-udset.pickle', 'rb'))"
      ],
      "execution_count": 8,
      "outputs": []
    },
    {
      "cell_type": "markdown",
      "metadata": {
        "id": "uAOSqiIUj1QG"
      },
      "source": [
        "Train the PCA model on the loaded features."
      ]
    },
    {
      "cell_type": "code",
      "metadata": {
        "id": "RFqTJVv5j1QH"
      },
      "source": [
        "# Perform PCA over the features\n",
        "# set the number of features intended\n",
        "num_feature_dimensions = 100\n",
        "pca = PCA(n_components=num_feature_dimensions)\n",
        "pca.fit(feature_list)\n",
        "feature_list = pca.transform(feature_list)"
      ],
      "execution_count": 9,
      "outputs": []
    },
    {
      "cell_type": "markdown",
      "metadata": {
        "id": "gvjSebySj1QH"
      },
      "source": [
        "\n",
        "Note: We are using the classes with the least accuracy because the effect of finetuning is expected be most pronounced on these categories. "
      ]
    },
    {
      "cell_type": "code",
      "metadata": {
        "id": "Udpv2rqQj1QI",
        "colab": {
          "base_uri": "https://localhost:8080/",
          "height": 361,
          "referenced_widgets": [
            "b1d527189188410eb601a12f459b2c4e",
            "7b8117c0bc514018895ef1c6e8ac5ef1",
            "0a40d8e7bcf24e8a93fcedc5b09b4e56",
            "bd45c3bb35ad48e8b61b3bfeb0352719",
            "55ce4eb407a94b0083b068f12fe492a4",
            "4fd1da24ccd74827afe3902a45608a47",
            "38385f4756794f15a6f2d99143d9c117",
            "fae12e5b8cb8443fa1d97455c53e8ee5",
            "ef6571343ebd4a4f9173e2734e856742",
            "297f736745ac4ca69e8de8fe466f164f",
            "718e6d158eec44e6844ea83a769a2757"
          ]
        },
        "outputId": "9aa2c74e-26f6-45f1-b3b5-7d5b4aa30610"
      },
      "source": [
        "names_of_least_accurate_classes_before_finetuning, accuracy_per_class_before_finetuning = get_least_accurate_classes(\n",
        "    feature_list[:])"
      ],
      "execution_count": 10,
      "outputs": [
        {
          "output_type": "stream",
          "name": "stderr",
          "text": [
            "/usr/local/lib/python3.7/dist-packages/ipykernel_launcher.py:9: TqdmDeprecationWarning: This function will be removed in tqdm==5.0.0\n",
            "Please use `tqdm.notebook.tqdm` instead of `tqdm.tqdm_notebook`\n",
            "  if __name__ == '__main__':\n"
          ]
        },
        {
          "output_type": "display_data",
          "data": {
            "application/vnd.jupyter.widget-view+json": {
              "model_id": "b1d527189188410eb601a12f459b2c4e",
              "version_minor": 0,
              "version_major": 2
            },
            "text/plain": [
              "  0%|          | 0/2100 [00:00<?, ?it/s]"
            ]
          },
          "metadata": {}
        },
        {
          "output_type": "stream",
          "name": "stdout",
          "text": [
            "Accuracy is  87.81\n",
            "\n",
            "\n",
            "Top 10 incorrect classifications\n",
            "\n",
            "intersection \tAccuracy:  66.16\n",
            "buildings \tAccuracy:  72.8\n",
            "mediumresidential \tAccuracy:  73.07\n",
            "tenniscourt \tAccuracy:  73.16\n",
            "denseresidential \tAccuracy:  78.85\n",
            "sparseresidential \tAccuracy:  79.43\n",
            "storagetanks \tAccuracy:  84.04\n",
            "overpass \tAccuracy:  88.86\n",
            "mobilehomepark \tAccuracy:  89.08\n",
            "baseballdiamond \tAccuracy:  89.6\n"
          ]
        }
      ]
    },
    {
      "cell_type": "markdown",
      "metadata": {
        "id": "3SiaJml6j1QI"
      },
      "source": [
        "Print names of the least accurate classes before fine-tuning"
      ]
    },
    {
      "cell_type": "code",
      "metadata": {
        "id": "_M9yaRmbj1QI",
        "colab": {
          "base_uri": "https://localhost:8080/"
        },
        "outputId": "875cc9f6-4427-46d2-cce0-9be2e0f18fb0"
      },
      "source": [
        "names_of_least_accurate_classes_before_finetuning"
      ],
      "execution_count": 11,
      "outputs": [
        {
          "output_type": "execute_result",
          "data": {
            "text/plain": [
              "['intersection',\n",
              " 'buildings',\n",
              " 'mediumresidential',\n",
              " 'tenniscourt',\n",
              " 'denseresidential',\n",
              " 'sparseresidential']"
            ]
          },
          "metadata": {},
          "execution_count": 11
        }
      ]
    },
    {
      "cell_type": "markdown",
      "metadata": {
        "id": "Ds3tNt9gj1QI"
      },
      "source": [
        "Combine the features from the 6 least accurate classes into a list so that we can use this list for further experiments and visualization. "
      ]
    },
    {
      "cell_type": "code",
      "metadata": {
        "id": "V4dLSI4pj1QI"
      },
      "source": [
        "least_accurate_feature_list = []\n",
        "least_accurate_filenames = []\n",
        "least_accurate_count = {}\n",
        "for index, filename in enumerate(filenames):\n",
        "    if classname(filename) not in least_accurate_count:\n",
        "        least_accurate_count[classname(filename)] = 0\n",
        "    if classname(\n",
        "            filename\n",
        "    ) in names_of_least_accurate_classes_before_finetuning and least_accurate_count[\n",
        "            classname(filename)] <= 50:\n",
        "        least_accurate_feature_list.append(feature_list[index])\n",
        "        least_accurate_count[classname(filename)] += 1\n",
        "        least_accurate_filenames.append(class_ids[index])"
      ],
      "execution_count": 12,
      "outputs": []
    },
    {
      "cell_type": "markdown",
      "metadata": {
        "id": "LITEES9vj1QJ"
      },
      "source": [
        "Train t-SNE only on the 6 least accurate classes."
      ]
    },
    {
      "cell_type": "code",
      "metadata": {
        "id": "NTdq633Lj1QJ",
        "colab": {
          "base_uri": "https://localhost:8080/"
        },
        "outputId": "f86ed8ee-7c50-4fb7-8ee9-b2e0d06d2ae4"
      },
      "source": [
        "from sklearn.manifold import TSNE\n",
        "selected_features = least_accurate_feature_list\n",
        "selected_class_ids = least_accurate_filenames\n",
        "selected_filenames = least_accurate_filenames\n",
        "time_start = time.time()\n",
        "tsne_results = TSNE(n_components=2, verbose=1,\n",
        "                    metric='euclidean').fit_transform(selected_features)\n",
        "# tsne = TSNE(n_components=2, verbose=1, perplexity=40, n_iter=250, metric=’euclidean’)\n",
        "print('t-SNE done! Time elapsed: {} seconds'.format(time.time() - time_start))"
      ],
      "execution_count": 13,
      "outputs": [
        {
          "output_type": "stream",
          "name": "stdout",
          "text": [
            "[t-SNE] Computing 91 nearest neighbors...\n",
            "[t-SNE] Indexed 306 samples in 0.007s...\n",
            "[t-SNE] Computed neighbors for 306 samples in 0.035s...\n",
            "[t-SNE] Computed conditional probabilities for sample 306 / 306\n",
            "[t-SNE] Mean sigma: 0.199391\n",
            "[t-SNE] KL divergence after 250 iterations with early exaggeration: 66.230003\n",
            "[t-SNE] KL divergence after 1000 iterations: 0.679404\n",
            "t-SNE done! Time elapsed: 1.912060260772705 seconds\n"
          ]
        }
      ]
    },
    {
      "cell_type": "markdown",
      "metadata": {
        "id": "eFPbK_2wj1QJ"
      },
      "source": [
        "### t-SNE visualization of feature vectors of least accurate classes before finetuning"
      ]
    },
    {
      "cell_type": "code",
      "metadata": {
        "scrolled": false,
        "id": "ON8LtKwTj1QJ",
        "colab": {
          "base_uri": "https://localhost:8080/",
          "height": 296
        },
        "outputId": "951daf7f-1fa1-4d44-99b3-7889440e8989"
      },
      "source": [
        "plt.title(\"\\n\".join(\n",
        "    wrap(\n",
        "        \"t-SNE visualization of feature vectors of least accurate classes before finetuning\",\n",
        "        60)))\n",
        "set_classes = list(set(selected_class_ids))\n",
        "# set different markers for all the classes we are going to show\n",
        "markers = [\"^\", \".\", \"s\", \"o\", \"x\", \"P\"]\n",
        "# set different colors for all the classes we are going to show\n",
        "colors = ['red', 'blue', 'fuchsia', 'green', 'purple', 'orange']\n",
        "class_to_marker = {}\n",
        "class_to_color = {}\n",
        "for index in range(len(tsne_results)):\n",
        "    # assign color and marker to each type of class\n",
        "    if selected_class_ids[index] not in class_to_marker:\n",
        "        class_to_marker[selected_class_ids[index]] = markers.pop()\n",
        "    if selected_class_ids[index] not in class_to_color:\n",
        "        class_to_color[selected_class_ids[index]] = colors.pop()\n",
        "    plt.scatter(tsne_results[index, 0],\n",
        "                tsne_results[index, 1],\n",
        "                c=class_to_color[selected_class_ids[index]],\n",
        "                marker=class_to_marker[selected_class_ids[index]],\n",
        "                edgecolor='white',\n",
        "                linewidth='.6',\n",
        "                s=90)\n",
        "plt.show()"
      ],
      "execution_count": 14,
      "outputs": [
        {
          "output_type": "display_data",
          "data": {
            "image/png": "[encoded data removed]",
            "text/plain": [
              "<Figure size 432x288 with 1 Axes>"
            ]
          },
          "metadata": {
            "needs_background": "light"
          }
        }
      ]
    },
    {
      "cell_type": "markdown",
      "metadata": {
        "id": "yL_zU7arj1QK"
      },
      "source": [
        "These feature vectors are all over the place! Using these feature vectors in other applications such as classification might not be a good idea as it would be difficult to find a plane of separation between them. \n",
        "\n",
        "\n",
        "Read the finetuned features from the UC Merced Land Use dataset "
      ]
    },
    {
      "cell_type": "code",
      "metadata": {
        "id": "O3PQLy1Zj1QK"
      },
      "source": [
        "filenames = pickle.load(open('data/filenames-udset.pickle', 'rb'))\n",
        "feature_list = pickle.load(\n",
        "    open('data/features-udset-resnet-finetuned.pickle', 'rb'))\n",
        "class_ids = pickle.load(open('data/class_ids-udset.pickle', 'rb'))"
      ],
      "execution_count": 16,
      "outputs": []
    },
    {
      "cell_type": "code",
      "metadata": {
        "id": "s13HPg3Yj1QK"
      },
      "source": [
        "# Perform PCA over the features\n",
        "# set the number of features intended\n",
        "num_feature_dimensions = 15\n",
        "pca = PCA(n_components=num_feature_dimensions)\n",
        "pca.fit(feature_list)\n",
        "feature_list = pca.transform(feature_list)"
      ],
      "execution_count": 17,
      "outputs": []
    },
    {
      "cell_type": "markdown",
      "metadata": {
        "id": "fvFUMpVhj1QK"
      },
      "source": [
        "Combine the features from the 6 least accurate classes into a list so that we can use this list for further experiments and visualization. Note that we are using the same categories (`names_of_least_accurate_classes_before_finetuning`) as before to enable an apples-to-apples comparison."
      ]
    },
    {
      "cell_type": "code",
      "metadata": {
        "id": "fZNZyZFWj1QK"
      },
      "source": [
        "least_accurate_feature_list = []\n",
        "least_accurate_filenames = []\n",
        "least_accurate_count = {}\n",
        "for index, filename in enumerate(filenames):\n",
        "    if classname(filename) not in least_accurate_count:\n",
        "        least_accurate_count[classname(filename)] = 0\n",
        "    if classname(\n",
        "            filename\n",
        "    ) in names_of_least_accurate_classes_before_finetuning and least_accurate_count[\n",
        "            classname(filename)] <= 50:\n",
        "        least_accurate_feature_list.append(feature_list[index])\n",
        "        least_accurate_count[classname(filename)] += 1\n",
        "        least_accurate_filenames.append(class_ids[index])"
      ],
      "execution_count": 18,
      "outputs": []
    },
    {
      "cell_type": "markdown",
      "metadata": {
        "id": "XLIqbWTIj1QK"
      },
      "source": [
        "Train a t-SNE model"
      ]
    },
    {
      "cell_type": "code",
      "metadata": {
        "id": "GjB2fi-sj1QL",
        "colab": {
          "base_uri": "https://localhost:8080/"
        },
        "outputId": "1660b3f8-afd1-482e-9e17-e4ccfa8afe98"
      },
      "source": [
        "from sklearn.manifold import TSNE\n",
        "selected_features = least_accurate_feature_list\n",
        "selected_class_ids = least_accurate_filenames\n",
        "selected_filenames = least_accurate_filenames\n",
        "time_start = time.time()\n",
        "tsne_results = TSNE(n_components=2, verbose=1,\n",
        "                    metric='euclidean').fit_transform(selected_features)\n",
        "# tsne = TSNE(n_components=2, verbose=1, perplexity=40, n_iter=250, metric=’euclidean’)\n",
        "print('t-SNE done! Time elapsed: {} seconds'.format(time.time() - time_start))"
      ],
      "execution_count": 19,
      "outputs": [
        {
          "output_type": "stream",
          "name": "stdout",
          "text": [
            "[t-SNE] Computing 91 nearest neighbors...\n",
            "[t-SNE] Indexed 306 samples in 0.001s...\n",
            "[t-SNE] Computed neighbors for 306 samples in 0.009s...\n",
            "[t-SNE] Computed conditional probabilities for sample 306 / 306\n",
            "[t-SNE] Mean sigma: 0.011847\n",
            "[t-SNE] KL divergence after 250 iterations with early exaggeration: 46.321854\n",
            "[t-SNE] KL divergence after 1000 iterations: 0.094907\n",
            "t-SNE done! Time elapsed: 1.4608123302459717 seconds\n"
          ]
        }
      ]
    },
    {
      "cell_type": "markdown",
      "metadata": {
        "id": "XLN3MK1nj1QL"
      },
      "source": [
        "### t-SNE visualization of feature vectors of least accurate classes after finetuning"
      ]
    },
    {
      "cell_type": "code",
      "metadata": {
        "scrolled": true,
        "id": "qWVl_1gqj1QL",
        "colab": {
          "base_uri": "https://localhost:8080/",
          "height": 297
        },
        "outputId": "15308672-139c-460b-faf2-40cc7567447a"
      },
      "source": [
        "plt.title(\"\\n\".join(\n",
        "    wrap(\n",
        "        \"t-SNE visualization of feature vectors of least accurate classes after finetuning\",\n",
        "        60)))\n",
        "plt.tight_layout()\n",
        "set_classes = list(set(selected_class_ids))\n",
        "markers = [\"^\", \".\", \"s\", \"o\", \"x\", \"P\"]\n",
        "colors = ['red', 'blue', 'fuchsia', 'green', 'purple', 'orange']\n",
        "class_to_marker = {}\n",
        "class_to_color = {}\n",
        "for index in range(len(tsne_results)):\n",
        "    # get only those tsne_results which belong to each_class\n",
        "    if selected_class_ids[index] not in class_to_marker:\n",
        "        class_to_marker[selected_class_ids[index]] = markers.pop()\n",
        "    if selected_class_ids[index] not in class_to_color:\n",
        "        class_to_color[selected_class_ids[index]] = colors.pop()\n",
        "    scatterPlot = plt.scatter(\n",
        "        tsne_results[index, 0],\n",
        "        tsne_results[index, 1],\n",
        "        c=class_to_color[selected_class_ids[index]],\n",
        "        marker=class_to_marker[selected_class_ids[index]],\n",
        "        edgecolor='white',\n",
        "        linewidth='.6',\n",
        "        s=80)\n",
        "plt.show()"
      ],
      "execution_count": 20,
      "outputs": [
        {
          "output_type": "display_data",
          "data": {
            "image/png": "[encoded data removed]",
            "text/plain": [
              "<Figure size 432x288 with 1 Axes>"
            ]
          },
          "metadata": {
            "needs_background": "light"
          }
        }
      ]
    },
    {
      "cell_type": "markdown",
      "metadata": {
        "id": "bbxkKCmfj1QL"
      },
      "source": [
        "This is so much better. With just a little bit of fine tuning the embeddings start to group together. Compare the noisy/scattered embeddings of the pre-trained models against those of the fine-tuned model. A machine learning classifier would be able to find a plane of separation between these classes with much more ease, hence giving better classification accuracy as well as more similar images when not using a classifier. And, remember, these were the classes with the highest misclassifications, imagine how nicely the classes with originally higher accuracy would be after fine-tuning."
      ]
    }
  ]
}