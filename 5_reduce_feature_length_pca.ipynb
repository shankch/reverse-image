{
  "nbformat": 4,
  "nbformat_minor": 0,
  "metadata": {
    "kernelspec": {
      "display_name": "Python 3",
      "language": "python",
      "name": "python3"
    },
    "language_info": {
      "codemirror_mode": {
        "name": "ipython",
        "version": 3
      },
      "file_extension": ".py",
      "mimetype": "text/x-python",
      "name": "python",
      "nbconvert_exporter": "python",
      "pygments_lexer": "ipython3",
      "version": "3.6.8"
    },
    "toc": {
      "base_numbering": 1,
      "nav_menu": {},
      "number_sections": true,
      "sideBar": true,
      "skip_h1_title": false,
      "title_cell": "Table of Contents",
      "title_sidebar": "Contents",
      "toc_cell": false,
      "toc_position": {},
      "toc_section_display": true,
      "toc_window_display": false
    },
    "colab": {
      "name": "5_reduce_feature_length_pca.ipynb",
      "provenance": [],
      "collapsed_sections": [],
      "include_colab_link": true
    },
    "accelerator": "GPU"
  },
  "cells": [
    {
      "cell_type": "markdown",
      "metadata": {
        "id": "view-in-github",
        "colab_type": "text"
      },
      "source": [
        "<a href=\"https://colab.research.google.com/github/shankch/reverse-image/blob/main/5_reduce_feature_length_pca.ipynb\" target=\"_parent\"><img src=\"https://colab.research.google.com/assets/colab-badge.svg\" alt=\"Open In Colab\"/></a>"
      ]
    },
    {
      "cell_type": "markdown",
      "metadata": {
        "id": "rGzkIJrWjxq0"
      },
      "source": [
        "# Improving the speed of feature extraction and similarity search\n",
        "\n",
        "We will experiment with PCA and figure out what is the optimum length of the features to use in our experiments.\n",
        "\n",
        "## Reduce feature length with PCA\n",
        "\n",
        "PCA (short for Principal Component Analysis) is a statistical procedure that questions if features representing the data are equally important. Are some of the features redundant enough that we can get similar results on say classification even after removing those features? PCA is considered one of the go-to techniques for dimensionality reduction. Note that it does not eliminate redundant features, instead it generates a new set of features that are a linear combination of the input features. These linear features are orthogonal to each other, which is why all the redundant features are absent. These features are known as principal components. \n",
        "\n",
        "\n",
        "We are going to perform PCA using the scikit-learn library."
      ]
    },
    {
      "cell_type": "code",
      "metadata": {
        "colab": {
          "base_uri": "https://localhost:8080/"
        },
        "id": "f14hpHatj44Z",
        "outputId": "012a5b75-cc25-4954-9dc6-414b41a50404"
      },
      "source": [
        "from google.colab import drive\n",
        "drive.mount('/content/drive')\n",
        "!mkdir data\n",
        "!cp -a drive/MyDrive/c99t1/* data/"
      ],
      "execution_count": 5,
      "outputs": [
        {
          "output_type": "stream",
          "name": "stdout",
          "text": [
            "Drive already mounted at /content/drive; to attempt to forcibly remount, call drive.mount(\"/content/drive\", force_remount=True).\n",
            "mkdir: cannot create directory ‘data’: File exists\n"
          ]
        }
      ]
    },
    {
      "cell_type": "code",
      "metadata": {
        "id": "2gU4vzo2jxq0"
      },
      "source": [
        "import numpy as np\n",
        "import pickle\n",
        "from tqdm import tqdm, tqdm_notebook\n",
        "import random\n",
        "import time\n",
        "from sklearn.manifold import TSNE\n",
        "from sklearn.decomposition import PCA\n",
        "import PIL\n",
        "from PIL import Image\n",
        "from sklearn.neighbors import NearestNeighbors\n",
        "import random\n",
        "import glob\n",
        "\n",
        "import matplotlib\n",
        "import matplotlib.pyplot as plt\n",
        "import matplotlib.image as mpimg\n",
        "matplotlib.rcParams['savefig.dpi'] = 160\n",
        "matplotlib.rcParams['figure.dpi'] = 160\n",
        "%matplotlib inline"
      ],
      "execution_count": 14,
      "outputs": []
    },
    {
      "cell_type": "code",
      "metadata": {
        "id": "zU3yI2bEjxq1"
      },
      "source": [
        "filenames = pickle.load(open('data/filenames-udset.pickle', 'rb'))\n",
        "feature_list = pickle.load(open('data/features-udset-resnet.pickle',\n",
        "                                'rb'))\n",
        "class_ids = pickle.load(open('data/class_ids-udset.pickle', 'rb'))"
      ],
      "execution_count": 7,
      "outputs": []
    },
    {
      "cell_type": "code",
      "metadata": {
        "id": "UePS5i8Sjxq2",
        "colab": {
          "base_uri": "https://localhost:8080/"
        },
        "outputId": "bf8e0615-c945-4c64-dced-e32ce83a0147"
      },
      "source": [
        "num_images = len(filenames)\n",
        "num_features_per_image = len(feature_list[0])\n",
        "print(\"Number of images = \", num_images)\n",
        "print(\"Number of features per image = \", num_features_per_image)"
      ],
      "execution_count": 8,
      "outputs": [
        {
          "output_type": "stream",
          "name": "stdout",
          "text": [
            "Number of images =  2100\n",
            "Number of features per image =  2048\n"
          ]
        }
      ]
    },
    {
      "cell_type": "code",
      "metadata": {
        "id": "8Y9NTA41jxq3"
      },
      "source": [
        "# Helper function to get the classname\n",
        "def classname(str):\n",
        "    return str.split('/')[-2]\n",
        "\n",
        "\n",
        "# Helper function to get the classname and filename\n",
        "def classname_filename(str):\n",
        "    return str.split('/')[-2] + '/' + str.split('/')[-1]\n",
        "\n",
        "\n",
        "# Helper function that calculates accuracy using the nearest neighbors brute force algorithm\n",
        "def calculate_accuracy(feature_list):\n",
        "    num_nearest_neighbors = 5\n",
        "    correct_prediction = 0\n",
        "    incorrect_prediction = 0\n",
        "    neighbors = NearestNeighbors(n_neighbors=num_nearest_neighbors,\n",
        "                                 algorithm='brute',\n",
        "                                 metric='euclidean').fit(feature_list)\n",
        "    start = time.time()\n",
        "    for i in range(len(feature_list)):\n",
        "        distances, indices = neighbors.kneighbors([feature_list[i]])\n",
        "        for j in range(1, num_nearest_neighbors):\n",
        "            if (classname(filenames[i]) == classname(filenames[indices[0][j]])):\n",
        "                correct_prediction += 1\n",
        "            else:\n",
        "                incorrect_prediction += 1\n",
        "    end = time.time()\n",
        "    accuracy = round(100.0 * correct_prediction /(1.0 * correct_prediction + incorrect_prediction), 2), end - start\n",
        "    return accuracy"
      ],
      "execution_count": 9,
      "outputs": []
    },
    {
      "cell_type": "code",
      "metadata": {
        "id": "CNY9C0-wjxq4",
        "colab": {
          "base_uri": "https://localhost:8080/"
        },
        "outputId": "c29a2eeb-ec35-4e08-db68-52cde79287f0"
      },
      "source": [
        "print(\"Accuracy on original feature set : \", calculate_accuracy(feature_list[:]))"
      ],
      "execution_count": 10,
      "outputs": [
        {
          "output_type": "stream",
          "name": "stdout",
          "text": [
            "Accuracy on original feature set :  (87.31, 31.886093616485596)\n"
          ]
        }
      ]
    },
    {
      "cell_type": "code",
      "metadata": {
        "scrolled": false,
        "id": "JzhqDtK_jxq5",
        "colab": {
          "base_uri": "https://localhost:8080/"
        },
        "outputId": "6bf15879-2b4d-4135-8773-143da4298d39"
      },
      "source": [
        "pca_dimensions = [1, 2, 3, 4, 5, 10, 20, 50, 75, 100, 150, 200]\n",
        "pca_accuracy = []\n",
        "pca_time = []\n",
        "\n",
        "for dimensions in pca_dimensions:\n",
        "    pca = PCA(n_components=dimensions)\n",
        "    pca.fit(feature_list)\n",
        "    feature_list_compressed = pca.transform(feature_list[:])\n",
        "    # Calculate accuracy over the compressed features\n",
        "    accuracy, t = calculate_accuracy(feature_list_compressed[:])\n",
        "    pca_time.append(t)\n",
        "    pca_accuracy.append(accuracy)\n",
        "    print(\"For PCA Dimensions = \", dimensions, \",\\tAccuracy = \", accuracy, \"%\",\",\\tTime = \", pca_time[-1])"
      ],
      "execution_count": 12,
      "outputs": [
        {
          "output_type": "stream",
          "name": "stdout",
          "text": [
            "For PCA Dimensions =  1 ,\tAccuracy =  16.96 % ,\tTime =  1.2159557342529297\n",
            "For PCA Dimensions =  2 ,\tAccuracy =  34.29 % ,\tTime =  1.273543119430542\n",
            "For PCA Dimensions =  3 ,\tAccuracy =  45.92 % ,\tTime =  1.2736525535583496\n",
            "For PCA Dimensions =  4 ,\tAccuracy =  51.42 % ,\tTime =  1.3042941093444824\n",
            "For PCA Dimensions =  5 ,\tAccuracy =  58.51 % ,\tTime =  1.324117660522461\n",
            "For PCA Dimensions =  10 ,\tAccuracy =  74.64 % ,\tTime =  1.9723615646362305\n",
            "For PCA Dimensions =  20 ,\tAccuracy =  83.54 % ,\tTime =  2.125105619430542\n",
            "For PCA Dimensions =  50 ,\tAccuracy =  87.7 % ,\tTime =  2.9400863647460938\n",
            "For PCA Dimensions =  75 ,\tAccuracy =  87.67 % ,\tTime =  3.350024700164795\n",
            "For PCA Dimensions =  100 ,\tAccuracy =  87.75 % ,\tTime =  3.6466238498687744\n",
            "For PCA Dimensions =  150 ,\tAccuracy =  88.01 % ,\tTime =  4.520791530609131\n",
            "For PCA Dimensions =  200 ,\tAccuracy =  88.08 % ,\tTime =  5.337686538696289\n"
          ]
        }
      ]
    },
    {
      "cell_type": "markdown",
      "metadata": {
        "id": "dvq6goUxjxq6"
      },
      "source": [
        "Let's plot the test time accuracy for each PCA dimension."
      ]
    },
    {
      "cell_type": "code",
      "metadata": {
        "scrolled": false,
        "id": "yvFj4AF1jxq6",
        "colab": {
          "base_uri": "https://localhost:8080/",
          "height": 294
        },
        "outputId": "10a11a41-b21d-498c-d923-8de91049a243"
      },
      "source": [
        "f = plt.figure()\n",
        "\n",
        "matplotlib.style.use('seaborn')\n",
        "plt.plot(pca_time, pca_accuracy, 'o--', markersize=5)\n",
        "for label, x, y in zip(pca_dimensions, pca_time, pca_accuracy):\n",
        "    plt.annotate(label, xy=(x, y), ha='right', va='bottom')\n",
        "plt.title('Test Time vs Accuracy for each PCA dimension')\n",
        "plt.xlabel('Test Time')\n",
        "plt.ylabel('Accuracy')\n",
        "plt.grid(True)\n",
        "plt.show()\n",
        "\n",
        "f.savefig(\"pca-test_time_vs_acc.pdf\", bbox_inches='tight')\n",
        "f.savefig(\"pca-test_time_vs_acc.png\", bbox_inches='tight')"
      ],
      "execution_count": 15,
      "outputs": [
        {
          "output_type": "display_data",
          "data": {
            "image/png": "[encoded data removed]",
            "text/plain": [
              "<Figure size 432x288 with 1 Axes>"
            ]
          },
          "metadata": {
            "needs_background": "light"
          }
        }
      ]
    },
    {
      "cell_type": "code",
      "metadata": {
        "id": "xCKKpF2Mjxq6"
      },
      "source": [
        "f.savefig('pca-test_time_vs_acc.pdf', bbox_inches='tight')\n",
        "f.savefig('pca-test_time_vs_acc.png', transparent=False, bbox_inches='tight')"
      ],
      "execution_count": 16,
      "outputs": []
    },
    {
      "cell_type": "markdown",
      "metadata": {
        "id": "QkbN6LZkjxq7"
      },
      "source": [
        "As visible in the graph, there is little improvement in accuracy after increasing beyond feature length of 100 dimensions. With almost 20 times lesser dimensions (100) that the original (2048), this offers drastically higher speed and less time on almost any search algorithm, while getting similar (and sometimes slightly better) accuracy. Hence, 100 would be an ideal feature length for this dataset. This also means that the first 100 dimensions contain the most information about the dataset.\n",
        "\n",
        "\n",
        "Let's plot the variance of each PCA dimension."
      ]
    },
    {
      "cell_type": "code",
      "metadata": {
        "id": "_dwSKxTUjxq7",
        "colab": {
          "base_uri": "https://localhost:8080/",
          "height": 376
        },
        "outputId": "8c22955e-12a8-4191-a1f4-be6252bee539"
      },
      "source": [
        "f = plt.figure()\n",
        "\n",
        "matplotlib.style.use('seaborn')\n",
        "plt.plot(range(1, 201), pca.explained_variance_ratio_, 'o--', markersize=3)\n",
        "plt.title('Variance vs number of PCA dimensions')\n",
        "plt.xlabel('PCA Dimension Count')\n",
        "plt.ylabel('Variance')\n",
        "plt.grid(True)\n",
        "plt.show()\n",
        "\n",
        "f.savefig(\"Variance vs number of PCA dimensions.pdf\", bbox_inches='tight')\n",
        "f.savefig(\"Variance vs number of PCA dimensions.png\", bbox_inches='tight')"
      ],
      "execution_count": 17,
      "outputs": [
        {
          "output_type": "display_data",
          "data": {
            "image/png": "[encoded data removed]",
            "text/plain": [
              "<Figure size 576x396 with 1 Axes>"
            ]
          },
          "metadata": {}
        }
      ]
    },
    {
      "cell_type": "markdown",
      "metadata": {
        "id": "7BjcEjrRjxq7"
      },
      "source": [
        "The individual variance will tell us how important the newly added features are. For example, after the first 100 dimensions, the additional dimensions don’t add much variance (almost equal to 0) and can be neglected. Without even checking the accuracy it is safe to assume that the PCA with 100 dimensions will be a  robust model. Another way to look at this is to visualize how much of the original data is explained by the limited number of features by finding the cumulative variance.\n",
        "\n",
        "### Cumulative Variance vs number of PCA dimensions."
      ]
    },
    {
      "cell_type": "code",
      "metadata": {
        "id": "1fam9dKTjxq8",
        "colab": {
          "base_uri": "https://localhost:8080/",
          "height": 376
        },
        "outputId": "35f1a3b3-c16f-4389-ecbf-2dd471c82765"
      },
      "source": [
        "f = plt.figure()\n",
        "\n",
        "matplotlib.style.use('seaborn')\n",
        "plt.plot(range(1, 201),\n",
        "         pca.explained_variance_ratio_.cumsum(),\n",
        "         'o--',\n",
        "         markersize=3)\n",
        "plt.title('Cumulative Variance vs number of PCA dimensions')\n",
        "plt.xlabel('PCA Dimension Count')\n",
        "plt.ylabel('Cumulative Variance')\n",
        "plt.grid(True)\n",
        "plt.show()\n",
        "\n",
        "f.savefig(\"Cumulative Variance vs number of PCA dimensions.pdf\",\n",
        "          bbox_inches='tight')\n",
        "f.savefig(\"Cumulative Variance vs number of PCA dimensions.png\",\n",
        "          bbox_inches='tight')"
      ],
      "execution_count": 18,
      "outputs": [
        {
          "output_type": "display_data",
          "data": {
            "image/png": "[encoded data removed]",
            "text/plain": [
              "<Figure size 576x396 with 1 Axes>"
            ]
          },
          "metadata": {}
        }
      ]
    },
    {
      "cell_type": "markdown",
      "metadata": {
        "id": "SpfHocSxjxq8"
      },
      "source": [
        "As expected adding 100 dimensions (from 100 to 200) adds only .1 variance and starts to gradually plateau. For reference, using full 2048 features would result in a cumulative variance of 1. \n",
        "\n",
        "\n",
        "### Plotting the effect of PCA dimension vs Classification Accuracy."
      ]
    },
    {
      "cell_type": "code",
      "metadata": {
        "id": "6PaqIAn8jxq8",
        "colab": {
          "base_uri": "https://localhost:8080/",
          "height": 376
        },
        "outputId": "6836480b-7719-49f1-c8b3-17dd6a8641ef"
      },
      "source": [
        "f = plt.figure()\n",
        "\n",
        "matplotlib.style.use('seaborn')\n",
        "plt.plot(pca_dimensions, pca_accuracy, 'o--', markersize=4)\n",
        "plt.title('Effect of PCA dimension vs Classification Accuracy')\n",
        "plt.xlabel('PCA Dimensions')\n",
        "plt.ylabel('Accuracy')\n",
        "plt.grid(True)\n",
        "plt.show()\n",
        "\n",
        "f.savefig(\"Effect of PCA dimension vs Classification Accuracy.pdf\",\n",
        "          bbox_inches='tight')\n",
        "f.savefig(\"Effect of PCA dimension vs Classification Accuracy.png\",\n",
        "          bbox_inches='tight')"
      ],
      "execution_count": 19,
      "outputs": [
        {
          "output_type": "display_data",
          "data": {
            "image/png": "[encoded data removed]",
            "text/plain": [
              "<Figure size 576x396 with 1 Axes>"
            ]
          },
          "metadata": {}
        }
      ]
    },
    {
      "cell_type": "markdown",
      "metadata": {
        "id": "PY39Yj8xjxq8"
      },
      "source": [
        "As visible in the graph, there is little improvement in accuracy after increasing beyond feature length of 100 dimensions. With almost 20 times lesser dimensions (100) that the original (2048), this offers drastically higher speed and less time on almost any search algorithm, while getting similar (and sometimes slightly better) accuracy. Hence 100 would be an ideal feature length for this dataset."
      ]
    },
    {
      "cell_type": "markdown",
      "metadata": {
        "id": "vpaZ2N5ujxq8"
      },
      "source": [
        "We will now plot the effect of number of PCA dimensions vs time."
      ]
    },
    {
      "cell_type": "code",
      "metadata": {
        "id": "SsI5TLRsjxq8",
        "colab": {
          "base_uri": "https://localhost:8080/",
          "height": 376
        },
        "outputId": "a4464b74-cc27-4766-af50-0c57af130c17"
      },
      "source": [
        "f = plt.figure()\n",
        "\n",
        "matplotlib.style.use('seaborn')\n",
        "plt.plot(pca_dimensions, pca_time, 'o--', markersize=4)\n",
        "plt.title('Effect of PCA dimensions vs Time')\n",
        "plt.xlabel('PCA Dimension Count')\n",
        "plt.ylabel('Time')\n",
        "plt.grid(True)\n",
        "plt.show()\n",
        "\n",
        "f.savefig(\"Effect of PCA dimensions vs Time.pdf\", bbox_inches='tight')\n",
        "f.savefig(\"Effect of PCA dimensions vs Time.png\", bbox_inches='tight')"
      ],
      "execution_count": 20,
      "outputs": [
        {
          "output_type": "display_data",
          "data": {
            "image/png": "[encoded data removed]",
            "text/plain": [
              "<Figure size 576x396 with 1 Axes>"
            ]
          },
          "metadata": {}
        }
      ]
    },
    {
      "cell_type": "markdown",
      "metadata": {
        "id": "vkMRvH7gjxq9"
      },
      "source": [
        "Now let's compare different options available for similarity search"
      ]
    },
    {
      "cell_type": "code",
      "metadata": {
        "id": "F26OeIhNjxq9"
      },
      "source": [
        "num_items = 2100\n",
        "num_dimensions = 100"
      ],
      "execution_count": 39,
      "outputs": []
    },
    {
      "cell_type": "code",
      "metadata": {
        "id": "D2saR6tgjxq9"
      },
      "source": [
        "dataset = np.random.randn(num_items, num_dimensions)\n",
        "dataset /= np.linalg.norm(dataset, axis=1).reshape(-1, 1)"
      ],
      "execution_count": 40,
      "outputs": []
    },
    {
      "cell_type": "code",
      "metadata": {
        "id": "PfHy-oTJjxq9"
      },
      "source": [
        "randomIndex = random.randint(0, num_items)\n",
        "query = dataset[randomIndex]"
      ],
      "execution_count": 42,
      "outputs": []
    },
    {
      "cell_type": "markdown",
      "metadata": {
        "id": "b9y_W1nTjxq9"
      },
      "source": [
        "### Brute force"
      ]
    },
    {
      "cell_type": "code",
      "metadata": {
        "id": "8fJJsyfujxq9",
        "colab": {
          "base_uri": "https://localhost:8080/"
        },
        "outputId": "0d2a52a1-c9c0-4d2c-9934-95c004552c79"
      },
      "source": [
        "# Time the indexing for the brute force algorithm\n",
        "%timeit NearestNeighbors(n_neighbors=5, algorithm='brute', metric='euclidean').fit(dataset)"
      ],
      "execution_count": 43,
      "outputs": [
        {
          "output_type": "stream",
          "name": "stdout",
          "text": [
            "The slowest run took 13.64 times longer than the fastest. This could mean that an intermediate result is being cached.\n",
            "10000 loops, best of 5: 154 µs per loop\n"
          ]
        }
      ]
    },
    {
      "cell_type": "code",
      "metadata": {
        "id": "5fJjM87Ojxq-",
        "colab": {
          "base_uri": "https://localhost:8080/"
        },
        "outputId": "828d8bc2-382e-4fee-810c-7114163155f6"
      },
      "source": [
        "# Time the search for the brute force algorithm\n",
        "neighbors = NearestNeighbors(n_neighbors=5,\n",
        "                             algorithm='brute',\n",
        "                             metric='euclidean').fit(dataset)\n",
        "%timeit neighbors.kneighbors([query])"
      ],
      "execution_count": 44,
      "outputs": [
        {
          "output_type": "stream",
          "name": "stdout",
          "text": [
            "The slowest run took 7.09 times longer than the fastest. This could mean that an intermediate result is being cached.\n",
            "1000 loops, best of 5: 1.03 ms per loop\n"
          ]
        }
      ]
    },
    {
      "cell_type": "markdown",
      "metadata": {
        "id": "P9HepZIwjxq-"
      },
      "source": [
        "### k-d Tree"
      ]
    },
    {
      "cell_type": "code",
      "metadata": {
        "id": "qd71I9fhjxq-",
        "colab": {
          "base_uri": "https://localhost:8080/"
        },
        "outputId": "4aba3213-af12-4c17-b375-b217d4b56401"
      },
      "source": [
        "# Time the indexing for the k-d tree algorithm\n",
        "%timeit NearestNeighbors(n_neighbors=5, algorithm='kd_tree').fit(dataset)"
      ],
      "execution_count": 45,
      "outputs": [
        {
          "output_type": "stream",
          "name": "stdout",
          "text": [
            "100 loops, best of 5: 16.4 ms per loop\n"
          ]
        }
      ]
    },
    {
      "cell_type": "code",
      "metadata": {
        "id": "2fq5XxtFjxq-",
        "colab": {
          "base_uri": "https://localhost:8080/"
        },
        "outputId": "2e16c2d2-3ab8-4858-ebac-d2f298317694"
      },
      "source": [
        "# Time the search for the k-d tree algorithm\n",
        "neighbors = NearestNeighbors(n_neighbors=5, algorithm='kd_tree').fit(dataset)\n",
        "%timeit neighbors.kneighbors([query])"
      ],
      "execution_count": 46,
      "outputs": [
        {
          "output_type": "stream",
          "name": "stdout",
          "text": [
            "1000 loops, best of 5: 997 µs per loop\n"
          ]
        }
      ]
    },
    {
      "cell_type": "markdown",
      "metadata": {
        "id": "6rrx3AFwjxq-"
      },
      "source": [
        "### Ball Tree"
      ]
    },
    {
      "cell_type": "code",
      "metadata": {
        "id": "h8sAcP6Ujxq-",
        "colab": {
          "base_uri": "https://localhost:8080/"
        },
        "outputId": "2f525764-2054-4d68-eaa5-e2a195c9f908"
      },
      "source": [
        "# Time the indexing for the Ball Tree algorithm\n",
        "%timeit NearestNeighbors(n_neighbors=5, algorithm='ball_tree').fit(dataset)"
      ],
      "execution_count": 47,
      "outputs": [
        {
          "output_type": "stream",
          "name": "stdout",
          "text": [
            "100 loops, best of 5: 10.8 ms per loop\n"
          ]
        }
      ]
    },
    {
      "cell_type": "code",
      "metadata": {
        "id": "Om3Y2hJ1jxq-",
        "colab": {
          "base_uri": "https://localhost:8080/"
        },
        "outputId": "c462b667-6952-4f50-de49-2e84e4f73204"
      },
      "source": [
        "# Time the search for the Ball Tree algorithm\n",
        "neighbors = NearestNeighbors(n_neighbors=5, algorithm='ball_tree').fit(dataset)\n",
        "%timeit neighbors.kneighbors([query])"
      ],
      "execution_count": 48,
      "outputs": [
        {
          "output_type": "stream",
          "name": "stdout",
          "text": [
            "1000 loops, best of 5: 822 µs per loop\n"
          ]
        }
      ]
    },
    {
      "cell_type": "code",
      "metadata": {
        "id": "N291kA-ujxq-",
        "colab": {
          "base_uri": "https://localhost:8080/"
        },
        "outputId": "e153852a-b6c6-4580-e76d-e5cef4cb0fd8"
      },
      "source": [
        "!pip3 install annoy"
      ],
      "execution_count": 49,
      "outputs": [
        {
          "output_type": "stream",
          "name": "stdout",
          "text": [
            "Requirement already satisfied: annoy in /usr/local/lib/python3.7/dist-packages (1.17.0)\n"
          ]
        }
      ]
    },
    {
      "cell_type": "markdown",
      "metadata": {
        "id": "5ivZlnEUjxq-"
      },
      "source": [
        "Now we have seen the time it takes to index and search using nearest neighbor algorithms on the full feature length. Now, We will use enhanced searching techniques like Faiss and Annoy to compress the features and reduce the time \n",
        "\n",
        "### Annoy\n",
        "\n",
        "Annoy (Approximate Nearest Neighbors Oh Yeah) is a C++ library with Python bindings for searching nearest neighbors. Synonymous with speed, it was released by Spotify and is used in production to serve their music recommendations. \n",
        "\n",
        "To use annoy, install it using pip:  `pip3 install annoy`"
      ]
    },
    {
      "cell_type": "code",
      "metadata": {
        "id": "wJMwPn3Njxq_"
      },
      "source": [
        "from annoy import AnnoyIndex"
      ],
      "execution_count": 50,
      "outputs": []
    },
    {
      "cell_type": "code",
      "metadata": {
        "id": "3u1MtR2zjxq_"
      },
      "source": [
        "# Choose a random image to experiment\n",
        "random_image_index = random.randint(0, num_items)\n",
        "# Note: the results may change if the image is changed"
      ],
      "execution_count": 51,
      "outputs": []
    },
    {
      "cell_type": "markdown",
      "metadata": {
        "id": "VweXmyKWjxq_"
      },
      "source": [
        "First, we build a search index with two hyperparameters - the number of dimensions of the dataset, and the number of trees. "
      ]
    },
    {
      "cell_type": "code",
      "metadata": {
        "id": "8-8jRcN5jxq_",
        "colab": {
          "base_uri": "https://localhost:8080/"
        },
        "outputId": "db38e16e-7591-492c-e2e7-06772de9ff50"
      },
      "source": [
        "annoy_index = AnnoyIndex(\n",
        "    num_dimensions)  # Length of item vector that will be indexed\n",
        "for i in range(num_items):\n",
        "    annoy_index.add_item(i, dataset[i])\n",
        "annoy_index.build(40)  #40 trees"
      ],
      "execution_count": 52,
      "outputs": [
        {
          "output_type": "stream",
          "name": "stderr",
          "text": [
            "/usr/local/lib/python3.7/dist-packages/ipykernel_launcher.py:2: FutureWarning: The default argument for metric will be removed in future version of Annoy. Please pass metric='angular' explicitly.\n",
            "  \n"
          ]
        },
        {
          "output_type": "execute_result",
          "data": {
            "text/plain": [
              "True"
            ]
          },
          "metadata": {},
          "execution_count": 52
        }
      ]
    },
    {
      "cell_type": "markdown",
      "metadata": {
        "id": "CHla9ubHjxq_"
      },
      "source": [
        "Now let’s find out the time it takes to search the 5 nearest neighbors of one image."
      ]
    },
    {
      "cell_type": "code",
      "metadata": {
        "id": "AIWOYlb9jxq_",
        "colab": {
          "base_uri": "https://localhost:8080/"
        },
        "outputId": "ee51e73d-6800-4988-9f26-93c36e16a448"
      },
      "source": [
        "#u = AnnoyIndex(num_dimensions)\n",
        "#Time the search for one image for Annoy\n",
        "%timeit annoy_index.get_nns_by_vector(query, 5, include_distances=True )"
      ],
      "execution_count": 53,
      "outputs": [
        {
          "output_type": "stream",
          "name": "stdout",
          "text": [
            "The slowest run took 51.65 times longer than the fastest. This could mean that an intermediate result is being cached.\n",
            "10000 loops, best of 5: 39.6 µs per loop\n"
          ]
        }
      ]
    },
    {
      "cell_type": "markdown",
      "metadata": {
        "id": "fFnj9jTZjxq_"
      },
      "source": [
        "\n",
        "Let's time the indexing for different number of tree:"
      ]
    },
    {
      "cell_type": "code",
      "metadata": {
        "id": "2WwVZJ3njxq_",
        "colab": {
          "base_uri": "https://localhost:8080/"
        },
        "outputId": "ef8e39dc-b72e-4368-e159-02ddd67f90df"
      },
      "source": [
        "annoy_training_time = []\n",
        "annoy_test_time = []\n",
        "annoy_trees = [\n",
        "    1, 2, 3, 4, 5, 10, 20, 30, 40, 50, 60, 70, 80, 90, 100, 200]\n",
        "for num_trees in annoy_trees:\n",
        "    t = AnnoyIndex(2048)  # Length of item vector that will be indexed\n",
        "    for i in range(num_images):\n",
        "        feature = feature_list[i]\n",
        "        t.add_item(i, feature)\n",
        "    start_time = time.time()\n",
        "    t.build(num_trees)  #50 trees\n",
        "    end_time = time.time()\n",
        "    annoy_training_time.append(end_time - start_time)\n",
        "    start_time = time.time()\n",
        "    indices = t.get_nns_by_vector(feature_list[random_image_index],\n",
        "                                  5,\n",
        "                                  include_distances=True)\n",
        "    end_time = time.time()\n",
        "    annoy_test_time.append(end_time - start_time)\n",
        "    print(\"For number of trees = \", num_trees, \",\\tTime to train = \",\n",
        "          annoy_training_time[-1], \",\\tTime to test = \", annoy_test_time[-1])"
      ],
      "execution_count": 54,
      "outputs": [
        {
          "output_type": "stream",
          "name": "stderr",
          "text": [
            "/usr/local/lib/python3.7/dist-packages/ipykernel_launcher.py:6: FutureWarning: The default argument for metric will be removed in future version of Annoy. Please pass metric='angular' explicitly.\n",
            "  \n"
          ]
        },
        {
          "output_type": "stream",
          "name": "stdout",
          "text": [
            "For number of trees =  1 ,\tTime to train =  0.0032045841217041016 ,\tTime to test =  0.0013318061828613281\n",
            "For number of trees =  2 ,\tTime to train =  0.003834962844848633 ,\tTime to test =  0.0013091564178466797\n",
            "For number of trees =  3 ,\tTime to train =  0.005963325500488281 ,\tTime to test =  0.001336812973022461\n",
            "For number of trees =  4 ,\tTime to train =  0.007339954376220703 ,\tTime to test =  0.0012772083282470703\n",
            "For number of trees =  5 ,\tTime to train =  0.00921177864074707 ,\tTime to test =  0.0013713836669921875\n",
            "For number of trees =  10 ,\tTime to train =  0.01842665672302246 ,\tTime to test =  0.0016713142395019531\n",
            "For number of trees =  20 ,\tTime to train =  0.026754140853881836 ,\tTime to test =  0.0012848377227783203\n",
            "For number of trees =  30 ,\tTime to train =  0.05101776123046875 ,\tTime to test =  0.0015757083892822266\n",
            "For number of trees =  40 ,\tTime to train =  0.04892086982727051 ,\tTime to test =  0.0014567375183105469\n",
            "For number of trees =  50 ,\tTime to train =  0.06322550773620605 ,\tTime to test =  0.0015423297882080078\n",
            "For number of trees =  60 ,\tTime to train =  0.07843208312988281 ,\tTime to test =  0.0015437602996826172\n",
            "For number of trees =  70 ,\tTime to train =  0.08426427841186523 ,\tTime to test =  0.0015518665313720703\n",
            "For number of trees =  80 ,\tTime to train =  0.09981727600097656 ,\tTime to test =  0.0015861988067626953\n",
            "For number of trees =  90 ,\tTime to train =  0.10534977912902832 ,\tTime to test =  0.0015392303466796875\n",
            "For number of trees =  100 ,\tTime to train =  0.12483096122741699 ,\tTime to test =  0.001621246337890625\n",
            "For number of trees =  200 ,\tTime to train =  0.23844313621520996 ,\tTime to test =  0.0015735626220703125\n"
          ]
        }
      ]
    },
    {
      "cell_type": "markdown",
      "metadata": {
        "id": "n2w269QWjxrA"
      },
      "source": [
        "### Effect of number of trees vs Training time"
      ]
    },
    {
      "cell_type": "code",
      "metadata": {
        "id": "MzBS6Z77jxrA",
        "colab": {
          "base_uri": "https://localhost:8080/",
          "height": 294
        },
        "outputId": "512c89de-6627-4ff3-9b9f-1753b52f8ee3"
      },
      "source": [
        "%matplotlib inline\n",
        "plt.plot(annoy_trees, annoy_training_time, 'or--')\n",
        "plt.title('Effect of number of trees vs Training time')\n",
        "plt.xlabel('Number of trees')\n",
        "plt.ylabel('Training Time')\n",
        "plt.grid(True)\n",
        "plt.show()"
      ],
      "execution_count": 55,
      "outputs": [
        {
          "output_type": "display_data",
          "data": {
            "image/png": "[encoded data removed]",
            "text/plain": [
              "<Figure size 432x288 with 1 Axes>"
            ]
          },
          "metadata": {
            "needs_background": "light"
          }
        }
      ]
    },
    {
      "cell_type": "markdown",
      "metadata": {
        "id": "Y5IFyTl9jxrA"
      },
      "source": [
        "### Effect of number of trees vs Test time"
      ]
    },
    {
      "cell_type": "code",
      "metadata": {
        "id": "CzeG5JbjjxrA",
        "colab": {
          "base_uri": "https://localhost:8080/",
          "height": 294
        },
        "outputId": "c5165def-747c-41bb-db63-d67578f2aa39"
      },
      "source": [
        "plt.plot(annoy_trees, annoy_test_time, 'or--')\n",
        "plt.title('Effect of number of trees vs Test time')\n",
        "plt.xlabel('Number of trees')\n",
        "plt.ylabel('Test Time')\n",
        "plt.grid(True)\n",
        "plt.show()"
      ],
      "execution_count": 56,
      "outputs": [
        {
          "output_type": "display_data",
          "data": {
            "image/png": "[encoded data removed]",
            "text/plain": [
              "<Figure size 432x288 with 1 Axes>"
            ]
          },
          "metadata": {
            "needs_background": "light"
          }
        }
      ]
    },
    {
      "cell_type": "markdown",
      "metadata": {
        "id": "5M607RT6jxrA"
      },
      "source": [
        "### NMS Lib"
      ]
    },
    {
      "cell_type": "code",
      "metadata": {
        "id": "xYT5dy5xjxrA",
        "colab": {
          "base_uri": "https://localhost:8080/"
        },
        "outputId": "0d888656-f78a-4e7d-8beb-c063e8340b39"
      },
      "source": [
        "!pip install nmslib\n",
        "import nmslib"
      ],
      "execution_count": 57,
      "outputs": [
        {
          "output_type": "stream",
          "name": "stdout",
          "text": [
            "Collecting nmslib\n",
            "  Downloading nmslib-2.1.1-cp37-cp37m-manylinux2010_x86_64.whl (13.5 MB)\n",
            "\u001b[K     |████████████████████████████████| 13.5 MB 73 kB/s \n",
            "\u001b[?25hRequirement already satisfied: numpy>=1.10.0 in /usr/local/lib/python3.7/dist-packages (from nmslib) (1.19.5)\n",
            "Collecting pybind11<2.6.2\n",
            "  Downloading pybind11-2.6.1-py2.py3-none-any.whl (188 kB)\n",
            "\u001b[K     |████████████████████████████████| 188 kB 52.7 MB/s \n",
            "\u001b[?25hRequirement already satisfied: psutil in /usr/local/lib/python3.7/dist-packages (from nmslib) (5.4.8)\n",
            "Installing collected packages: pybind11, nmslib\n",
            "Successfully installed nmslib-2.1.1 pybind11-2.6.1\n"
          ]
        }
      ]
    },
    {
      "cell_type": "code",
      "metadata": {
        "id": "VX5tlCFGjxrA"
      },
      "source": [
        "index = nmslib.init(method='hnsw', space='cosinesimil')\n",
        "index.addDataPointBatch(dataset)\n",
        "index.createIndex({'post': 2}, print_progress=True)"
      ],
      "execution_count": 58,
      "outputs": []
    },
    {
      "cell_type": "code",
      "metadata": {
        "id": "Z9b0-3mrjxrA",
        "colab": {
          "base_uri": "https://localhost:8080/"
        },
        "outputId": "5cb2c450-bee7-4b17-9589-dbc92a4b2d91"
      },
      "source": [
        "# query for the nearest neighbors of the first datapoint\n",
        "%timeit index.knnQuery(query, k=5)\n",
        "ids, distances = index.knnQuery(query, k=5)"
      ],
      "execution_count": 59,
      "outputs": [
        {
          "output_type": "stream",
          "name": "stdout",
          "text": [
            "The slowest run took 21.42 times longer than the fastest. This could mean that an intermediate result is being cached.\n",
            "10000 loops, best of 5: 29.2 µs per loop\n"
          ]
        }
      ]
    },
    {
      "cell_type": "code",
      "metadata": {
        "id": "VuoauWpOjxrA",
        "colab": {
          "base_uri": "https://localhost:8080/"
        },
        "outputId": "d2a53df7-f872-4166-e233-215aaf0c94c6"
      },
      "source": [
        "# Get all nearest neighbors for all the datapoint\n",
        "%timeit index.knnQueryBatch(dataset, k=5, num_threads=16)\n",
        "neighbors = index.knnQueryBatch(dataset, k=5, num_threads=16)"
      ],
      "execution_count": 60,
      "outputs": [
        {
          "output_type": "stream",
          "name": "stdout",
          "text": [
            "10 loops, best of 5: 51.4 ms per loop\n"
          ]
        }
      ]
    },
    {
      "cell_type": "markdown",
      "metadata": {
        "id": "E4UW64lijxrB"
      },
      "source": [
        "### Falconn"
      ]
    },
    {
      "cell_type": "code",
      "metadata": {
        "id": "a2OzXel8jxrB",
        "colab": {
          "base_uri": "https://localhost:8080/"
        },
        "outputId": "0447f3f7-aa86-432a-9bdf-52fda385fbdc"
      },
      "source": [
        "!pip install falconn\n",
        "import falconn"
      ],
      "execution_count": 61,
      "outputs": [
        {
          "output_type": "stream",
          "name": "stdout",
          "text": [
            "Collecting falconn\n",
            "  Downloading FALCONN-1.3.1.tar.gz (1.4 MB)\n",
            "\u001b[K     |████████████████████████████████| 1.4 MB 4.2 MB/s \n",
            "\u001b[?25hBuilding wheels for collected packages: falconn\n",
            "  Building wheel for falconn (setup.py) ... \u001b[?25l\u001b[?25hdone\n",
            "  Created wheel for falconn: filename=FALCONN-1.3.1-cp37-cp37m-linux_x86_64.whl size=10582783 sha256=7d55a2af8755760483b2477ab54ead8bd7190a83672dec1aa3af25c5f19b211c\n",
            "  Stored in directory: /root/.cache/pip/wheels/94/91/57/5ba08148df673f6c3cff96717120d7ad23a7493ef92040eb3e\n",
            "Successfully built falconn\n",
            "Installing collected packages: falconn\n",
            "Successfully installed falconn-1.3.1\n"
          ]
        }
      ]
    },
    {
      "cell_type": "code",
      "metadata": {
        "id": "1IHMXD8FjxrB",
        "colab": {
          "base_uri": "https://localhost:8080/"
        },
        "outputId": "58bb850f-2eef-4a3b-dab7-2f7feb9d398e"
      },
      "source": [
        "parameters = falconn.LSHConstructionParameters()\n",
        "num_tables = 1\n",
        "parameters.l = num_tables\n",
        "parameters.dimension = num_dimensions\n",
        "parameters.distance_function = falconn.DistanceFunction.EuclideanSquared\n",
        "parameters.lsh_family = falconn.LSHFamily.CrossPolytope\n",
        "parameters.num_rotations = 1\n",
        "parameters.num_setup_threads = 1\n",
        "parameters.storage_hash_table = falconn.StorageHashTable.BitPackedFlatHashTable\n",
        "falconn.compute_number_of_hash_functions(16, parameters)\n",
        "\n",
        "index = falconn.LSHIndex(parameters)\n",
        "%time index.setup(dataset)\n",
        "\n",
        "query_object = index.construct_query_object()\n",
        "num_probes = 1\n",
        "query_object.set_num_probes(num_probes)\n",
        "\n",
        "%timeit query_object.find_k_nearest_neighbors(query, 5)"
      ],
      "execution_count": 62,
      "outputs": [
        {
          "output_type": "stream",
          "name": "stdout",
          "text": [
            "CPU times: user 4.49 ms, sys: 0 ns, total: 4.49 ms\n",
            "Wall time: 4.9 ms\n",
            "The slowest run took 39.90 times longer than the fastest. This could mean that an intermediate result is being cached.\n",
            "100000 loops, best of 5: 4.41 µs per loop\n"
          ]
        }
      ]
    },
    {
      "cell_type": "code",
      "metadata": {
        "scrolled": true,
        "id": "dz0i6AqPjxrB"
      },
      "source": [
        "query = dataset[2000]\n",
        "print(query_object.find_k_nearest_neighbors(query, 5))"
      ],
      "execution_count": null,
      "outputs": []
    }
  ]
}